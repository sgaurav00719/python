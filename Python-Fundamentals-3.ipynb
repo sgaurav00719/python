{
 "cells": [
  {
   "cell_type": "markdown",
   "metadata": {},
   "source": [
    "<h1>About Me</h1>\n",
    "<ul>\n",
    "<li>Name: Gaurav Sharma</li>\n",
    "<li>Software Developer at AWS GameTech</li>\n",
    "<li>Ex-Software Developer at Nasdaq. Low Latency Trading Platform.</li>\n",
    "<li>Education - Bachelor's and Master's in Computer Science.</li>\n",
    "</ul>\n",
    "\n",
    "\n",
    "<h1>Agenda</h1>\n",
    "<ul>\n",
    "<li>Scope of Variables - 30 mins</li>\n",
    "<li>Custom Sort Functions - 30 mins</li>\n",
    "<li>Python OOP Concepts - 45 mins</li>\n",
    "<li>Exception Handling - 30 mins</li>\n",
    "<li>File Handling - 30 mins</li>\n",
    "<li>JSON module - 45 mins</li>\n",
    "</ul>\n",
    "\n",
    "\n",
    "Notebook: https://github.com/sgaurav00719/python/blob/main/Python-Fundamentals-3.ipynb"
   ]
  },
  {
   "cell_type": "markdown",
   "metadata": {},
   "source": [
    "<h1>Scope of Variables</h1>\n",
    "\n",
    "<ul>\n",
    "  <li>The scope of a variable refers to the regions within the program where a variable can be recognized and used.</li>\n",
    "  <li><span style=\"color: blue;\"><strong>Importance:</strong></span> Proper scoping prevents unintended access or modification of variables.</li>\n",
    "</ul>\n"
   ]
  },
  {
   "cell_type": "markdown",
   "metadata": {},
   "source": [
    "<h3>Variable Scope Types</h3>\n",
    "\n",
    "<p>There are four major types of variable scope:</p>\n",
    "<ul>\n",
    "  <li>Local</li>\n",
    "  <li>Enclosing</li>\n",
    "  <li>Global</li>\n",
    "  <li>Built-in</li>\n",
    "</ul>\n",
    "\n",
    "<p>Python follows the <span style=\"color: blue;\"><strong>LEGB</strong></span> rule for name resolution: Local, Enclosing, Global, and Built-in.</p>\n"
   ]
  },
  {
   "cell_type": "markdown",
   "metadata": {},
   "source": [
    "<h3>Local Scope</h3>\n",
    "<p>\n",
    "A variable declared inside a function is known as a local variable. These variables can only be used within the function that defines them, and they are destroyed as soon as the function finishes executing.\n",
    "</p>\n"
   ]
  },
  {
   "cell_type": "code",
   "execution_count": 3,
   "metadata": {},
   "outputs": [
    {
     "name": "stdout",
     "output_type": "stream",
     "text": [
      "local_var\n"
     ]
    }
   ],
   "source": [
    "def func():\n",
    "    local_var = \"local_var\"\n",
    "    print(local_var)\n",
    "    \n",
    "func()    "
   ]
  },
  {
   "cell_type": "code",
   "execution_count": 5,
   "metadata": {},
   "outputs": [
    {
     "ename": "NameError",
     "evalue": "name 'local_var' is not defined",
     "output_type": "error",
     "traceback": [
      "\u001b[0;31m---------------------------------------------------------------------------\u001b[0m",
      "\u001b[0;31mNameError\u001b[0m                                 Traceback (most recent call last)",
      "\u001b[1;32m/Users/gauravsharma/Documents/Teachings/PythonWeek3/PracticeLiveClass/Python-Fundamentals-3.ipynb Cell 6\u001b[0m line \u001b[0;36m5\n\u001b[1;32m      <a href='vscode-notebook-cell:/Users/gauravsharma/Documents/Teachings/PythonWeek3/PracticeLiveClass/Python-Fundamentals-3.ipynb#Y326sZmlsZQ%3D%3D?line=1'>2</a>\u001b[0m     local_var \u001b[39m=\u001b[39m \u001b[39m\"\u001b[39m\u001b[39mlocal_var\u001b[39m\u001b[39m\"\u001b[39m\n\u001b[1;32m      <a href='vscode-notebook-cell:/Users/gauravsharma/Documents/Teachings/PythonWeek3/PracticeLiveClass/Python-Fundamentals-3.ipynb#Y326sZmlsZQ%3D%3D?line=2'>3</a>\u001b[0m     \u001b[39mprint\u001b[39m(local_var)\n\u001b[0;32m----> <a href='vscode-notebook-cell:/Users/gauravsharma/Documents/Teachings/PythonWeek3/PracticeLiveClass/Python-Fundamentals-3.ipynb#Y326sZmlsZQ%3D%3D?line=4'>5</a>\u001b[0m \u001b[39mprint\u001b[39m(local_var)    \n\u001b[1;32m      <a href='vscode-notebook-cell:/Users/gauravsharma/Documents/Teachings/PythonWeek3/PracticeLiveClass/Python-Fundamentals-3.ipynb#Y326sZmlsZQ%3D%3D?line=5'>6</a>\u001b[0m func()\n",
      "\u001b[0;31mNameError\u001b[0m: name 'local_var' is not defined"
     ]
    }
   ],
   "source": [
    "def func():\n",
    "    local_var = \"local_var\"\n",
    "    print(local_var)\n",
    "\n",
    "print(local_var)    \n",
    "func()"
   ]
  },
  {
   "cell_type": "markdown",
   "metadata": {},
   "source": [
    "<h3>Global Scope</h3>\n",
    "<p>\n",
    "A variable declared outside of the function or in global space is called a global variable. These variables can be accessed by any function in the program, and they last for the duration of the program.\n",
    "</p>\n"
   ]
  },
  {
   "cell_type": "code",
   "execution_count": 9,
   "metadata": {},
   "outputs": [
    {
     "name": "stdout",
     "output_type": "stream",
     "text": [
      "global\n",
      "global\n",
      "global\n"
     ]
    }
   ],
   "source": [
    "global_var = \"global\"\n",
    "\n",
    "print(global_var)\n",
    "\n",
    "def fun():\n",
    "    print(global_var)\n",
    "def fun1():\n",
    "    print(global_var)    \n",
    "    \n",
    "    \n",
    "fun()  \n",
    "fun1()   "
   ]
  },
  {
   "cell_type": "markdown",
   "metadata": {},
   "source": [
    "<h3>Enclosing Scope</h3>\n",
    "<p>\n",
    "It is relevant in situations where you have nested functions, meaning one function is defined inside another function. In this context, the outer function forms an enclosing scope for the inner function.\n",
    "</p>\n"
   ]
  },
  {
   "cell_type": "code",
   "execution_count": 15,
   "metadata": {},
   "outputs": [
    {
     "name": "stdout",
     "output_type": "stream",
     "text": [
      "outter 100\n",
      "inner 10\n",
      "10\n",
      "enclosing\n",
      "abc\n"
     ]
    }
   ],
   "source": [
    "def outer():\n",
    "    x = 10\n",
    "    enclosing_var = \"enclosing\"\n",
    "    y = 100\n",
    "    def inner():\n",
    "        y = 10\n",
    "        print(f\"inner {y}\")\n",
    "        print(x)\n",
    "        print(enclosing_var)\n",
    "        print(i)\n",
    "    i = \"abc\"    \n",
    "    print(f\"outter {y}\")\n",
    "    inner()\n",
    "    \n",
    "outer()    \n",
    "        "
   ]
  },
  {
   "cell_type": "markdown",
   "metadata": {},
   "source": [
    "<h3>Built-in Scope</h3>\n",
    "<p>\n",
    "This is the widest scope that exists! All the special reserved keywords fall under this scope. We can call the keywords anywhere within our program without having to define them before use.\n",
    "</p>\n"
   ]
  },
  {
   "cell_type": "code",
   "execution_count": 16,
   "metadata": {},
   "outputs": [
    {
     "name": "stdout",
     "output_type": "stream",
     "text": [
      "['ArithmeticError', 'AssertionError', 'AttributeError', 'BaseException', 'BaseExceptionGroup', 'BlockingIOError', 'BrokenPipeError', 'BufferError', 'BytesWarning', 'ChildProcessError', 'ConnectionAbortedError', 'ConnectionError', 'ConnectionRefusedError', 'ConnectionResetError', 'DeprecationWarning', 'EOFError', 'Ellipsis', 'EncodingWarning', 'EnvironmentError', 'Exception', 'ExceptionGroup', 'False', 'FileExistsError', 'FileNotFoundError', 'FloatingPointError', 'FutureWarning', 'GeneratorExit', 'IOError', 'ImportError', 'ImportWarning', 'IndentationError', 'IndexError', 'InterruptedError', 'IsADirectoryError', 'KeyError', 'KeyboardInterrupt', 'LookupError', 'MemoryError', 'ModuleNotFoundError', 'NameError', 'None', 'NotADirectoryError', 'NotImplemented', 'NotImplementedError', 'OSError', 'OverflowError', 'PendingDeprecationWarning', 'PermissionError', 'ProcessLookupError', 'RecursionError', 'ReferenceError', 'ResourceWarning', 'RuntimeError', 'RuntimeWarning', 'StopAsyncIteration', 'StopIteration', 'SyntaxError', 'SyntaxWarning', 'SystemError', 'SystemExit', 'TabError', 'TimeoutError', 'True', 'TypeError', 'UnboundLocalError', 'UnicodeDecodeError', 'UnicodeEncodeError', 'UnicodeError', 'UnicodeTranslateError', 'UnicodeWarning', 'UserWarning', 'ValueError', 'Warning', 'ZeroDivisionError', '__IPYTHON__', '__build_class__', '__debug__', '__doc__', '__import__', '__loader__', '__name__', '__package__', '__spec__', 'abs', 'aiter', 'all', 'anext', 'any', 'ascii', 'bin', 'bool', 'breakpoint', 'bytearray', 'bytes', 'callable', 'chr', 'classmethod', 'compile', 'complex', 'copyright', 'credits', 'delattr', 'dict', 'dir', 'display', 'divmod', 'enumerate', 'eval', 'exec', 'execfile', 'filter', 'float', 'format', 'frozenset', 'get_ipython', 'getattr', 'globals', 'hasattr', 'hash', 'help', 'hex', 'id', 'input', 'int', 'isinstance', 'issubclass', 'iter', 'len', 'license', 'list', 'locals', 'map', 'max', 'memoryview', 'min', 'next', 'object', 'oct', 'open', 'ord', 'pow', 'print', 'property', 'range', 'repr', 'reversed', 'round', 'runfile', 'set', 'setattr', 'slice', 'sorted', 'staticmethod', 'str', 'sum', 'super', 'tuple', 'type', 'vars', 'zip']\n"
     ]
    }
   ],
   "source": [
    "import builtins\n",
    "\n",
    "print(dir(builtins))"
   ]
  },
  {
   "cell_type": "markdown",
   "metadata": {},
   "source": [
    "<h3>Global Keyword</h3>\n",
    "<p>\n",
    "This keyword is used before a variable inside a function to denote that the variable is a global variable. Without this keyword, the function would treat it as a local variable.\n",
    "</p>\n"
   ]
  },
  {
   "cell_type": "code",
   "execution_count": 24,
   "metadata": {},
   "outputs": [
    {
     "name": "stdout",
     "output_type": "stream",
     "text": [
      "before fun 10\n",
      "inside fun 20\n",
      "after fun 20\n"
     ]
    }
   ],
   "source": [
    "x = 10\n",
    "print(f\"before fun {x}\")\n",
    "def fun():\n",
    "    global x\n",
    "    x = 20\n",
    "    print(f\"inside fun {x}\")\n",
    "    \n",
    "fun()\n",
    "print(f\"after fun {x}\")   "
   ]
  },
  {
   "cell_type": "markdown",
   "metadata": {},
   "source": [
    "<h3>Nonlocal Keyword</h3>\n",
    "\n",
    "<p>This keyword works similar to the global, but it is used in nested functions. It means the variable should not belong to the inner function's scope but the outer function's scope.</p>"
   ]
  },
  {
   "cell_type": "code",
   "execution_count": 27,
   "metadata": {},
   "outputs": [
    {
     "name": "stdout",
     "output_type": "stream",
     "text": [
      "inside inner 20\n",
      "inside outer 20\n"
     ]
    }
   ],
   "source": [
    "def outer():\n",
    "    outer_var = 10 # This is in enclosing scope \n",
    "    def inner():\n",
    "        nonlocal outer_var\n",
    "        outer_var = 20\n",
    "        print(f\"inside inner {outer_var}\")\n",
    "    \n",
    "    inner()\n",
    "    print(f\"inside outer {outer_var}\")\n",
    "    \n",
    "outer()        "
   ]
  },
  {
   "cell_type": "code",
   "execution_count": 36,
   "metadata": {},
   "outputs": [
    {
     "name": "stdout",
     "output_type": "stream",
     "text": [
      "7\n",
      "4\n",
      "7\n"
     ]
    }
   ],
   "source": [
    "num = 7\n",
    "print(num)\n",
    "nums = [1, 2, 3, 4]\n",
    "\n",
    "def fun():\n",
    "    for num in nums:\n",
    "        ...\n",
    "    print(num)    \n",
    " \n",
    "fun()    \n",
    "print(num)"
   ]
  },
  {
   "cell_type": "markdown",
   "metadata": {},
   "source": [
    "<h3><strong style=\"color:green;\">Variable Scope Knowledge Check</strong></h3>\n",
    "\n",
    "</p>Question 1: Guess the output</p>\n",
    "\n",
    "```Python\n",
    "x = 5\n",
    "\n",
    "def foo():\n",
    "    x = x + 1\n",
    "    print(x)\n",
    "\n",
    "foo()\n",
    "print(x)\n",
    "```\n",
    "\n",
    "<ul>\n",
    "<li>A: 6 6</li>\n",
    "<li>B: 6 5</li>\n",
    "<li>C: 5 5</li>\n",
    "<li>D: UnboundLocalError</li>\n",
    "</ul>\n",
    "\n",
    "<p>Question 2: Guess the output</p>\n",
    "\n",
    "```Python\n",
    "def outer():\n",
    "    x = 10\n",
    "    def inner():\n",
    "        nonlocal x\n",
    "        x = 20\n",
    "        def innermost():\n",
    "            global x\n",
    "            x = 30\n",
    "        innermost()\n",
    "        return x\n",
    "    return inner()\n",
    "\n",
    "x = 0\n",
    "print(outer(), x)\n",
    "```\n",
    "\n",
    "<ul>\n",
    "<li>A: 20 0</li>\n",
    "<li>B: 20 30</li>\n",
    "<li>C: 30 0</li>\n",
    "<li>D: 30 30</li>\n",
    "</ul>"
   ]
  },
  {
   "cell_type": "code",
   "execution_count": 80,
   "metadata": {},
   "outputs": [
    {
     "name": "stdout",
     "output_type": "stream",
     "text": [
      "10\n",
      "2000\n",
      "None 0\n"
     ]
    }
   ],
   "source": [
    "def outer():\n",
    "    x = 10\n",
    "    def inner():\n",
    "        x = 30\n",
    "        def innermost():\n",
    "            nonlocal x\n",
    "            x = 2000\n",
    "            print(x)\n",
    "        innermost()\n",
    "    print(x)    \n",
    "    return inner()\n",
    "\n",
    "x = 0\n",
    "print(outer(), x)"
   ]
  },
  {
   "cell_type": "markdown",
   "metadata": {},
   "source": [
    "<h1>Custom Sort Functions</h1>\n",
    "\n",
    "<h3>Introduction</h3>\n",
    "<p>In Python, sorting is a common operation that can be performed using built-in functions like sorted() and the sort() method for lists.</p> \n",
    "<p>While these functions work well for basic sorting, Python also allows you to customize the sorting behavior using custom functions.</p>\n",
    "\n",
    "<h3>The basics</h3>\n",
    "<p><strong style=\"color:blue;\">Sorted():</strong> Returns a new sorted list from the specified iterable.</p>\n",
    "<p><strong style=\"color:blue;\">Sort():</strong> Modifies the list in place and returns None.</p>\n",
    "\n",
    "<h3>Differences between `sorted()` and `sort()`:</h3>\n",
    "\n",
    "| Feature                  | `sorted()`                          | `sort()`                          |\n",
    "|--------------------------|-------------------------------------|-----------------------------------|\n",
    "| Applicability            | Works on any iterable               | Works only on lists               |\n",
    "| Return Type              | Returns a new sorted list           | Modifies the list in-place        |\n",
    "| Original Iterable        | Leaves the original iterable intact | Changes the original list         |\n",
    "| Versatility              | More versatile                      | Less versatile                    |\n",
    "\n"
   ]
  },
  {
   "cell_type": "code",
   "execution_count": 54,
   "metadata": {},
   "outputs": [
    {
     "name": "stdout",
     "output_type": "stream",
     "text": [
      "[3, 2, 1]\n",
      "[1, 2, 3]\n",
      "[3, 2, 1]\n"
     ]
    }
   ],
   "source": [
    "l = sorted((3,2,1))\n",
    "print(l)\n",
    "\n",
    "l1 = sorted(\"bca\")\n",
    "print(l1)\n",
    "\n",
    "l2 = sorted({3,2,1})\n",
    "print(l2)\n",
    "\n",
    "l3 = sorted({'b': 1, 'a': 2}.items())\n",
    "print(l3)\n",
    "\n",
    "l4 = [3,2,1]\n",
    "print(l4)\n",
    "l5 = sorted(l4)\n",
    "print(l5)\n",
    "print(l4)"
   ]
  },
  {
   "cell_type": "code",
   "execution_count": 55,
   "metadata": {},
   "outputs": [
    {
     "name": "stdout",
     "output_type": "stream",
     "text": [
      "[3, 100, 7]\n",
      "[3, 7, 100]\n"
     ]
    }
   ],
   "source": [
    "l = [3,100,7]\n",
    "print(l)\n",
    "l.sort()\n",
    "print(l)"
   ]
  },
  {
   "cell_type": "markdown",
   "metadata": {},
   "source": [
    "<h3>Sorting in reverse</h3>\n",
    "<p>Both sorted() and sort() have an optional reverse parameter.</p>\n",
    "<p><strong style=\"color:blue;\">Reverse:</strong> If set to True, the list will be sorted in descending order.</p>"
   ]
  },
  {
   "cell_type": "code",
   "execution_count": 58,
   "metadata": {},
   "outputs": [
    {
     "name": "stdout",
     "output_type": "stream",
     "text": [
      "[4, 3, 2, 1]\n",
      "[4, 3, 2, 1]\n"
     ]
    }
   ],
   "source": [
    "li = [3,2,1,4]\n",
    "print(sorted(li, reverse=True))\n",
    "\n",
    "li.sort(reverse=True)\n",
    "print(li)\n"
   ]
  },
  {
   "cell_type": "markdown",
   "metadata": {},
   "source": [
    "<h3>Custom Sorting Using key Parameter</h3>\n",
    "\n",
    "<p>Both sorted() and sort() have an optional <strong style=\"color:blue;\">Key</strong> parameter that you can use to specify a function to be called on each list element before making comparisons.</p>\n"
   ]
  },
  {
   "cell_type": "code",
   "execution_count": 62,
   "metadata": {},
   "outputs": [
    {
     "name": "stdout",
     "output_type": "stream",
     "text": [
      "[('b', 1), ('a', 2), ('c', 3)]\n"
     ]
    }
   ],
   "source": [
    "sl = sorted({'b': 1, 'c': 3, 'a': 2}.items(), key=lambda x: x[1])\n",
    "\n",
    "print(sl)\n",
    "\n",
    "# Complexity for sort algo used by python is O(nlogn)"
   ]
  },
  {
   "cell_type": "code",
   "execution_count": 65,
   "metadata": {},
   "outputs": [
    {
     "name": "stdout",
     "output_type": "stream",
     "text": [
      "['ban', 'apple', 'cherry']\n",
      "['ban', 'apple', 'cherry']\n"
     ]
    }
   ],
   "source": [
    "# Sorting a list of strings by length.\n",
    "words = ['apple', 'ban', 'cherry']\n",
    "sorted_words = sorted(words, key=len)\n",
    "words.sort(key=len)\n",
    "print(words)\n",
    "print(sorted_words)\n"
   ]
  },
  {
   "cell_type": "code",
   "execution_count": 68,
   "metadata": {},
   "outputs": [
    {
     "name": "stdout",
     "output_type": "stream",
     "text": [
      "['banana', 'apple', 'orange', 'grape', 'kiwi', 'pear']\n"
     ]
    }
   ],
   "source": [
    "# Sorting a list of strings by their last letter\n",
    "\n",
    "words = [\"pear\", \"kiwi\", \"apple\", \"banana\", \"orange\", \"grape\"]\n",
    "sorted_words = sorted(words, key=lambda word: word[-1])\n",
    "print(sorted_words)"
   ]
  },
  {
   "cell_type": "markdown",
   "metadata": {},
   "source": [
    "<h3><strong style=\"color:green;\">Custom Sort Functions Knowledge Check</strong></h3>\n",
    "\n",
    "<h4>Question 1:</h4>\n",
    "\n",
    "<p>Sort a list of dictionaries by grades.</p>\n",
    "\n",
    "<h4>Input:</h4>\n",
    "\n",
    "```json\n",
    "[\n",
    "  {'name': 'John', 'grade': 90},\n",
    "  {'name': 'Jane', 'grade': 85},\n",
    "  {'name': 'Doe', 'grade': 90}\n",
    "]\n",
    "```\n",
    "\n",
    "<h4>Follow up:</h4>\n",
    "<p>Sorting the above dictionary by grades and then by name.</p>\n",
    "\n",
    "<h4>Question 2:</h4>\n",
    "<p>You are given a list of tuples, where each tuple contains a name (string) and an age (integer). Write a Python program that sorts this list in the following order:</p>\n",
    "<ol>\n",
    "  <li>By age in ascending order.</li>\n",
    "  <li>If two or more people have the same age, sort them by their name in alphabetical order.</li>\n",
    "</ol>\n",
    "<p>Use a custom sorting function to achieve this.</p>\n",
    "<h4>Input:</h4>\n",
    "\n",
    "```json\n",
    "people = [\n",
    "    (\"Alice\", 30),\n",
    "    (\"Bob\", 25),\n",
    "    (\"Charlie\", 25),\n",
    "    (\"David\", 35)\n",
    "]\n",
    "```\n",
    "\n",
    "<h4>Output:</h4>\n",
    "\n",
    "```json\n",
    "[\n",
    "    (\"Bob\", 25),\n",
    "    (\"Charlie\", 25),\n",
    "    (\"Alice\", 30),\n",
    "    (\"David\", 35)\n",
    "]\n",
    "```\n",
    "\n",
    "<h4>Question 3:</h4>\n",
    "<p>Sort Characters By Frequency (LeetCode 451)<p>\n",
    "\n",
    "#### Problem Statement:\n",
    "\n",
    "Given a string, sort it in decreasing order based on the frequency of characters.\n",
    "\n",
    "#### Example:\n",
    "\n",
    "Input: \"tree\"\n",
    "\n",
    "Output: \"eert\" or \"eetr\"\n",
    "\n",
    "Explanation: 'e' appears twice while 'r' and 't' both appear once. So 'e' must appear before both 'r' and 't'. Therefore \"eetr\" is also a valid answer.\n",
    "\n",
    "\n",
    "<h4>Question 4:</h4>\n",
    "\n",
    "Can you sort a tuple using the sort() method? Why or why not?\n"
   ]
  },
  {
   "cell_type": "code",
   "execution_count": 87,
   "metadata": {},
   "outputs": [
    {
     "name": "stdout",
     "output_type": "stream",
     "text": [
      "[{'name': 'Jane', 'grade': 85}, {'name': 'Doe', 'grade': 90}, {'name': 'John', 'grade': 90}]\n"
     ]
    }
   ],
   "source": [
    "# Sol 1\n",
    "\n",
    "# Given list of dictionaries\n",
    "students = [\n",
    "  {'name': 'John', 'grade': 90},\n",
    "  {'name': 'Jane', 'grade': 85},\n",
    "  {'name': 'Doe', 'grade': 90}\n",
    "]\n",
    "\n",
    "# Sort the list of dictionaries using the sorted() function\n",
    "# We use a lambda function as the key parameter to specify that we want to sort by the 'grade' key in each dictionary\n",
    "sorted_students = sorted(students, key=lambda x: (x['grade'], x['name']))\n",
    "\n",
    "# Print the sorted list\n",
    "print(sorted_students)"
   ]
  },
  {
   "cell_type": "code",
   "execution_count": 89,
   "metadata": {},
   "outputs": [
    {
     "name": "stdout",
     "output_type": "stream",
     "text": [
      "[('Bob', 25), ('Charlie', 25), ('Alice', 30), ('David', 35)]\n"
     ]
    }
   ],
   "source": [
    "# Given list of tuples\n",
    "people = [\n",
    "    (\"Alice\", 30),\n",
    "    (\"Bob\", 25),\n",
    "    (\"Charlie\", 25),\n",
    "    (\"David\", 35)\n",
    "]\n",
    "\n",
    "# Sort the list of tuples using the sorted() function\n",
    "# We use a lambda function as the key parameter to specify that we want to sort by age first and then by name\n",
    "# We are just putting the index of the element first\n",
    "sorted_people = sorted(people, key=lambda x: (x[1], x[0]))\n",
    "\n",
    "# Print the sorted list\n",
    "print(sorted_people)"
   ]
  },
  {
   "cell_type": "code",
   "execution_count": 92,
   "metadata": {},
   "outputs": [
    {
     "name": "stdout",
     "output_type": "stream",
     "text": [
      "['i', 'e', 't', 'r']\n",
      "iiiiiiiiiiiiieetr\n"
     ]
    }
   ],
   "source": [
    "from collections import Counter\n",
    "\n",
    "def frequencySort(s: str) -> str:\n",
    "    \n",
    "    # Count the frequency of each character in the string\n",
    "    #The collections.Counter class in Python returns a dictionary-like collection \n",
    "    # where the keys are the unique elements in the input iterable, and the values are t\n",
    "    # he counts of the occurrences of those elements. The elements are stored as dictionary keys, \n",
    "    # and their counts are stored as dictionary values.\n",
    "    \n",
    "    freq_map = Counter(s)\n",
    "    \n",
    "    # Sort the characters by frequency\n",
    "    sorted_chars = sorted(freq_map.keys(), key=lambda x: freq_map[x], reverse=True)\n",
    "    print(sorted_chars)\n",
    "    # Reconstruct the string based on the sorted characters and their frequencies\n",
    "    \n",
    "    #The syntax ''.join([char * freq_map[char] for char in sorted_chars]) is a combination of Python's string join method and a list comprehension. Let's break it down piece by piece:\n",
    "    result = ''.join([char * freq_map[char] for char in sorted_chars])\n",
    "    \n",
    "    return result\n",
    "\n",
    "# Test the function\n",
    "print(frequencySort(\"treeiiiiiiiiiiiii\"))  # Output: \"eert\" or \"eetr\""
   ]
  },
  {
   "cell_type": "code",
   "execution_count": 93,
   "metadata": {},
   "outputs": [
    {
     "name": "stdout",
     "output_type": "stream",
     "text": [
      "[1, 2, 3]\n"
     ]
    }
   ],
   "source": [
    "t = [1,3,2]\n",
    "print(t.sort())\n"
   ]
  },
  {
   "cell_type": "markdown",
   "metadata": {},
   "source": [
    "<h1>Object-Oriented Programming (OOP)</h1>\n",
    "<h3>What is Object-Oriented Programming?</h3>\n",
    "<ul>\n",
    "  <li><span style=\"color: blue;\"><strong>Object-Oriented Programming (OOP)</strong></span> is a style of programming that is based on the concept of \"objects\". </li>\n",
    "  <li><span style=\"color: blue;\"><strong>Objects(OOP)</strong></span> are instances of \"classes\", which are like blueprints for creating objects. </li>\n",
    "</ul>\n",
    "\n",
    "  <div style=\"margin-top: 20px;\">\n",
    "    <img src=\"house-oop.png\" style=\"width: 50%;\">\n",
    "  </div>"
   ]
  },
  {
   "cell_type": "markdown",
   "metadata": {},
   "source": [
    "<h3>Why Do We Use Object-Oriented Programming?</h3>\n",
    "\n",
    "1. **Organization and Structure**:\n",
    "   - **Classes and objects** allow for logical grouping of related data and functions, making code more organized, understandable, and manageable.\n",
    "   - It promotes a clear structure, making it easier to map real-world entities to software components.\n",
    "\n",
    "2. **Encapsulation**:\n",
    "   - **Encapsulation** helps in hiding the internal state of an object and requiring all interaction to be performed through well-defined interfaces (methods).\n",
    "   - It prevents external code from being able to directly modify the object’s state, avoiding unintended interference and misuse of data.\n",
    "\n",
    "3. **Reusability**:\n",
    "   - **Inheritance** allows a class to use methods and properties of another class, promoting reusability.\n",
    "   - Reusing existing components and functionality can significantly reduce development time and errors.\n",
    "\n",
    "4. **Extensibility**:\n",
    "   - OOP makes software more modular, allowing functionality to be easily extended or modified.\n",
    "   - New features can be added with minimal changes to existing code, reducing the risk of introducing errors.\n",
    "\n",
    "5. **Abstraction**:\n",
    "   - **Abstraction** allows programmers to hide the complex implementation details and show only the necessary features of an object.\n",
    "   - It simplifies programming by exposing only high-level actions the object can do, making it easier to develop and maintain the code.\n",
    "\n",
    "6. **Polymorphism**:\n",
    "   - **Polymorphism** allows one interface to be used for different data types, enabling the same operation to behave differently on different classes.\n",
    "   - It provides flexibility and the ability to extend functionality in a system designed with interface compatibility in mind."
   ]
  },
  {
   "cell_type": "markdown",
   "metadata": {},
   "source": [
    "<h3>Understanding Classes and Objects</h3>\n",
    "<ul>\n",
    "  <li>A <span style=\"color: purple;\"><strong>Class</strong></span> is a data type that acts as a template definition for a particular kind of object.</li>\n",
    "  <li>An <span style=\"color: blue;\"><strong>Object</strong></span> is an instance of a class, meaning it's a working example made from that blueprint.</li>\n",
    "  <li>To create an object, you use a class as a starting point. This is called <span style=\"color: green;\"><strong>Instantiation</strong></span>.</li>\n",
    "\n",
    "  <div style=\"margin-top: 20px;\">\n",
    "    <img src=\"class-objects-1.png\" style=\"width: 10%;\">\n",
    "  </div>\n",
    "</ul>\n"
   ]
  },
  {
   "cell_type": "markdown",
   "metadata": {},
   "source": [
    "<h3>Create a class</h3>"
   ]
  },
  {
   "cell_type": "code",
   "execution_count": 94,
   "metadata": {},
   "outputs": [],
   "source": [
    "class Car:\n",
    "    pass"
   ]
  },
  {
   "cell_type": "markdown",
   "metadata": {},
   "source": [
    "<h3>Create an Object from a class</h3>"
   ]
  },
  {
   "cell_type": "code",
   "execution_count": 95,
   "metadata": {},
   "outputs": [],
   "source": [
    "car = Car()"
   ]
  },
  {
   "cell_type": "markdown",
   "metadata": {},
   "source": [
    "<h3>Add attributes (variables) to a class</h3>"
   ]
  },
  {
   "cell_type": "code",
   "execution_count": 2,
   "metadata": {},
   "outputs": [
    {
     "name": "stdout",
     "output_type": "stream",
     "text": [
      "with args\n"
     ]
    }
   ],
   "source": [
    "# Define the Car class\n",
    "class Car:\n",
    "    def __init__(self, color, brand):\n",
    "        self.color = color  # Attribute\n",
    "        self.brand = brand  # Attribute    \n",
    "             \n",
    "test = Car(\"Blue\", \"Tesla\")\n",
    "        "
   ]
  },
  {
   "cell_type": "markdown",
   "metadata": {},
   "source": [
    "<h3>Constructors in Python</h3>\n",
    "\n",
    "<ul>\n",
    "  <li>A constructor is a special method used to initialize objects.</li>\n",
    "  <li>In Python, the primary constructor is the <code>__init__</code> method.</li>\n",
    "  <li>It sets initial values for object attributes and performs any setup required. Called automatically when a new object is created from a class.</li>\n",
    "</ul>\n"
   ]
  },
  {
   "cell_type": "markdown",
   "metadata": {},
   "source": [
    "<h3>What is the <code>self</code> Keyword in Python OOP?</h3>\n",
    "<ul>\n",
    "  <li>The <code>self</code> keyword represents the instance of the class and is used to access class attributes and methods.</li>\n",
    "  <li>Inside class methods, <code>self</code> allows you to call other methods and access attributes of the same object.</li>\n",
    "  <li>Python automatically passes <code>self</code> as the first argument when you call a method on an object, but you don't include it in the actual method call.</li>\n",
    "</ul>\n"
   ]
  },
  {
   "cell_type": "markdown",
   "metadata": {},
   "source": [
    "### Incorrect use of self"
   ]
  },
  {
   "cell_type": "code",
   "execution_count": 128,
   "metadata": {},
   "outputs": [
    {
     "name": "stdout",
     "output_type": "stream",
     "text": [
      "Red\n"
     ]
    },
    {
     "ename": "AttributeError",
     "evalue": "'Car' object has no attribute 'make'",
     "output_type": "error",
     "traceback": [
      "\u001b[0;31m---------------------------------------------------------------------------\u001b[0m",
      "\u001b[0;31mAttributeError\u001b[0m                            Traceback (most recent call last)",
      "\u001b[1;32m/Users/gauravsharma/Documents/Teachings/PythonWeek3/PracticeLiveClass/Python-Fundamentals-3.ipynb Cell 46\u001b[0m line \u001b[0;36m8\n\u001b[1;32m      <a href='vscode-notebook-cell:/Users/gauravsharma/Documents/Teachings/PythonWeek3/PracticeLiveClass/Python-Fundamentals-3.ipynb#Y361sZmlsZQ%3D%3D?line=5'>6</a>\u001b[0m car \u001b[39m=\u001b[39m Car()\n\u001b[1;32m      <a href='vscode-notebook-cell:/Users/gauravsharma/Documents/Teachings/PythonWeek3/PracticeLiveClass/Python-Fundamentals-3.ipynb#Y361sZmlsZQ%3D%3D?line=6'>7</a>\u001b[0m \u001b[39mprint\u001b[39m(car\u001b[39m.\u001b[39mcolor) \u001b[39m# \"Red\"\u001b[39;00m\n\u001b[0;32m----> <a href='vscode-notebook-cell:/Users/gauravsharma/Documents/Teachings/PythonWeek3/PracticeLiveClass/Python-Fundamentals-3.ipynb#Y361sZmlsZQ%3D%3D?line=7'>8</a>\u001b[0m \u001b[39mprint\u001b[39m(car\u001b[39m.\u001b[39;49mmake) \u001b[39m# would result in an error, `make` does not exist on the object\u001b[39;00m\n",
      "\u001b[0;31mAttributeError\u001b[0m: 'Car' object has no attribute 'make'"
     ]
    }
   ],
   "source": [
    "class Car:\n",
    "    def __init__(self):\n",
    "        self.color = \"Red\" # ends up on the object\n",
    "        self.make = \"Mercedes\" # becomes a local variable in the constructor\n",
    "\n",
    "car = Car()\n",
    "print(car.color) # \"Red\"\n",
    "print(car.make) # would result in an error, `make` does not exist on the object"
   ]
  },
  {
   "cell_type": "markdown",
   "metadata": {},
   "source": [
    "### Printing objects"
   ]
  },
  {
   "cell_type": "code",
   "execution_count": 129,
   "metadata": {},
   "outputs": [
    {
     "name": "stdout",
     "output_type": "stream",
     "text": [
      "<__main__.Car object at 0x1084b1350>\n",
      "<__main__.Car object at 0x107e83910>\n"
     ]
    }
   ],
   "source": [
    "# Define the Car class\n",
    "class Car:\n",
    "    # Constructor to initialize instance attributes\n",
    "    def __init__(self, color, brand):\n",
    "        self.color = color  # Attribute\n",
    "        self.brand = brand  # Attribute\n",
    "        \n",
    "# Create objects of the Car class\n",
    "my_car = Car('red', 'Toyota')\n",
    "another_car = Car('blue', 'Ford')\n",
    "\n",
    "print(my_car)\n",
    "print(another_car)"
   ]
  },
  {
   "cell_type": "code",
   "execution_count": 133,
   "metadata": {},
   "outputs": [
    {
     "name": "stdout",
     "output_type": "stream",
     "text": [
      "repr: {'color': 'red', 'brand': 'Toyota'}\n",
      "repr: {'color': 'blue', 'brand': 'Ford'}\n"
     ]
    }
   ],
   "source": [
    "# Define the Car class\n",
    "class Car:\n",
    "    # Constructor to initialize instance attributes\n",
    "    def __init__(self, color, brand):\n",
    "        self.color = color  # Attribute\n",
    "        self.brand = brand  # Attribute\n",
    "    \n",
    "    # Define the __str__ method to return a string representation of the object in dictionary format\n",
    "    def __str__(self):\n",
    "        return f\"str: {{'color': '{self.color}', 'brand': '{self.brand}'}}\"\n",
    "    \n",
    "    def __repr__(self):\n",
    "        return f\"repr: {{'color': '{self.color}', 'brand': '{self.brand}'}}\"\n",
    "        \n",
    "# Create objects of the Car class\n",
    "my_car = Car('red', 'Toyota')\n",
    "another_car = Car('blue', 'Ford')\n",
    "\n",
    "# Print objects of the Car class\n",
    "print(my_car)       # Output: {'color': 'red', 'brand': 'Toyota'}\n",
    "print(another_car)  # Output: {'color': 'blue', 'brand': 'Ford'}"
   ]
  },
  {
   "cell_type": "markdown",
   "metadata": {},
   "source": [
    "<h3>Four pillars or principles of OOP's</h3>\n",
    "\n",
    "<ul>\n",
    "    <li> <strong style=\"color:blue;\">Encapsulation</strong></li>\n",
    "    <li> <strong style=\"color:blue;\">Inheritance</strong></li>\n",
    "    <li> <strong style=\"color:blue;\">Polymorphism</strong></li>\n",
    "    <li> <strong style=\"color:blue;\">Abstraction</strong></li>\n",
    "</ul>\n",
    "\n",
    " <div style=\"margin-top: 20px;\">\n",
    "    <img src=\"oop-4-pillars.png\" style=\"width: 40%;\">\n",
    "  </div>\n",
    "\n"
   ]
  },
  {
   "cell_type": "markdown",
   "metadata": {},
   "source": [
    "<h3>Encapsulation</h3>\n",
    "\n",
    "<p><strong style=\"color:blue;\">Encapsulation:</strong> Encapsulation is the process of preventing clients from accessing certain properties, which can only be accessed through specific methods. This principle allows one to declare private and public methods and attributes.</p>\n",
    "\n",
    "<p><strong style=\"color:blue;\">Benefit:</strong></p>\n",
    "<ul>\n",
    "  <li>Improved data integrity, control over access to data.</li>\n",
    "</ul>\n",
    "\n",
    "<p><strong style=\"color:blue;\">Note:</strong> In Python, there is no strict access control, but a convention to indicate a variable is private by prefixing it with two underscores.</p>\n",
    "\n",
    "\n",
    "<h3>Access Specifiers</h3>\n",
    "\n",
    "<ul>\n",
    "<li><strong style=\"color:blue;\">Public:</strong> Attributes and methods that are accessible from any part of the code. In Python, all members are public by default.</li>\n",
    "  <li><strong style=\"color:blue;\">Protected:</strong> Attributes and methods that are accessible within the class and its subclasses. In Python, they are often indicated by a single leading underscore (e.g., <code>_protected_variable</code>).</li>\n",
    "  <li><strong style=\"color:blue;\">Private:</strong> Attributes and methods that should not be accessed outside the class. In Python, they are indicated by double leading underscores (e.g., <code>__private_variable</code>).</li>\n",
    "</ul>\n",
    "\n",
    "```Python\n",
    "class Car:\n",
    "  wheels = 4 #public\n",
    "  _color = \"red\" #protected\n",
    "  __engine = \"v8\" #private\n",
    "```"
   ]
  },
  {
   "cell_type": "code",
   "execution_count": 145,
   "metadata": {},
   "outputs": [
    {
     "name": "stdout",
     "output_type": "stream",
     "text": [
      "Black\n",
      "0\n",
      "Secret Model\n",
      "Sports\n",
      "Sports\n"
     ]
    }
   ],
   "source": [
    "class Car:\n",
    "    def __init__(self, color = \"Black\", wheels = \"0\"):\n",
    "        self.color = color  # Public attribute\n",
    "        self._wheels = wheels    # Protected attribute\n",
    "        self.__model = \"Secret Model\"  # Private attribute\n",
    "        \n",
    "    def get_model(self): # getter function\n",
    "        return self.__model\n",
    "    \n",
    "    def set_model(self, model) : # setter function\n",
    "        self.__model = model\n",
    "     \n",
    "my_car = Car()   \n",
    "\n",
    "print(my_car.color)  # Accessing public attribute\n",
    "\n",
    "print(my_car._wheels)  # Accessing protected attribute\n",
    "\n",
    "print(my_car.get_model())  # Accessing private attribute through a public method\n",
    "\n",
    "my_car.set_model(\"Sports\") # Setting private attribute through public method\n",
    "\n",
    "print(my_car.get_model())\n",
    "\n",
    "#print(my_car.__model)\n",
    "\n",
    "# name-mangled version\n",
    "print(my_car._Car__model)\n"
   ]
  },
  {
   "cell_type": "code",
   "execution_count": 258,
   "metadata": {},
   "outputs": [
    {
     "name": "stdout",
     "output_type": "stream",
     "text": [
      "Santa Monica\n",
      "Santa Cruz\n",
      "Santa Cruz\n"
     ]
    }
   ],
   "source": [
    "class Person:\n",
    "    def __init__(self, name, age, city=None):\n",
    "        self.name = name\n",
    "        self._age = age\n",
    "        self.__city = city\n",
    "\n",
    "    def get_city(self):\n",
    "        return self.__city\n",
    "\n",
    "p3 = Person('Chris', 25, 'Santa Cruz')\n",
    "p3.__city = 'Santa Monica'\n",
    "print(p3.__city)\n",
    "print(p3.get_city())\n",
    "print(p3._Person__city)"
   ]
  },
  {
   "cell_type": "code",
   "execution_count": 142,
   "metadata": {},
   "outputs": [
    {
     "name": "stdout",
     "output_type": "stream",
     "text": [
      "Car started\n",
      "Gear changed\n"
     ]
    }
   ],
   "source": [
    "# This is an example of access specifier with functions\n",
    "\n",
    "class Car:\n",
    "    def __init__(self, wheel, color):\n",
    "        self.wheels = wheel\n",
    "        self.color = color\n",
    "\n",
    "    def start(self):\n",
    "        return \"Car started\"\n",
    "\n",
    "    def _start_engine(self):\n",
    "        return \"Engine started\"\n",
    "\n",
    "    def __change_gear(self):\n",
    "        return \"Gear changed\"\n",
    "\n",
    "my_car = Car(10, \"blue\")\n",
    "print(my_car.start())\n",
    "\n",
    "#my_car.__change_gear()\n",
    "\n",
    "# name-mangled version\n",
    "print(my_car._Car__change_gear())"
   ]
  },
  {
   "cell_type": "markdown",
   "metadata": {},
   "source": [
    "<h3>Inheritance</h3>\n",
    "\n",
    "<p><strong style=\"color:blue;\">Inheritance:</strong> A mechanism that allows one class to inherit attributes and methods from another class.</p>\n",
    "\n",
    "<p>The subclass or child class is the class that inherits. The superclass or parent class is the class from which methods and/or attributes are inherited.</p>\n",
    "\n",
    "<p><strong style=\"color:blue;\">Benefits:</strong><p>\n",
    "<ul>\n",
    "  <li>Code reusability, reduced complexity.</li>\n",
    "  <li>Through inheritance, you can reuse code that's already been written, saving time and effort.</li>\n",
    "</ul>"
   ]
  },
  {
   "cell_type": "code",
   "execution_count": 147,
   "metadata": {},
   "outputs": [
    {
     "name": "stdout",
     "output_type": "stream",
     "text": [
      "Name: The Great Gatsby, Stock: 10, Writer: F. Scott Fitzgerald, Cost: 30.0\n",
      "Name: The Great Gatsby, Stock: 10, Writer: F. Scott Fitzgerald, Cost: 27.0\n",
      "Name: A Brief History of Time, Stock: 5, Writer: Stephen Hawking, Cost: 40.0\n",
      "Name: A Brief History of Time, Stock: 5, Writer: Stephen Hawking, Cost: 32.0\n"
     ]
    }
   ],
   "source": [
    "class Book:\n",
    "    def __init__(self, name, stock, writer, cost):\n",
    "        self.name = name\n",
    "        self.stock = stock\n",
    "        self.writer = writer\n",
    "        self._cost = cost\n",
    "        self._promo = None\n",
    "\n",
    "    def apply_promo(self, promo):\n",
    "        self._promo = promo\n",
    "\n",
    "    def fetch_cost(self):\n",
    "        if self._promo:\n",
    "            return self._cost * (1 - self._promo)\n",
    "        return self._cost\n",
    "\n",
    "    def __str__(self):\n",
    "        return f\"Name: {self.name}, Stock: {self.stock}, Writer: {self.writer}, Cost: {self.fetch_cost()}\"\n",
    "\n",
    "class Fiction(Book): # Fiction (Clid/Subclass Class) and Book (Parent/Base class)\n",
    "    def __init__(self, name, stock, writer, cost, chapters):\n",
    "        super().__init__(name, stock, writer, cost)\n",
    "        self.chapters = chapters\n",
    "        \n",
    "\n",
    "class Scholarly(Book):\n",
    "    def __init__(self, name, stock, writer, cost, subject):\n",
    "        super().__init__(name, stock, writer, cost)\n",
    "        self.subject = subject\n",
    "        \n",
    "        \n",
    "# Creating an instance of the Fiction class\n",
    "fiction_book = Fiction(name=\"The Great Gatsby\", stock=10, writer=\"F. Scott Fitzgerald\", cost=30.00, chapters=9)\n",
    "print(fiction_book)  # Output: Manuscript: The Great Gatsby, Stock: 10, Writer: F. Scott Fitzgerald, Cost: 30.0\n",
    "\n",
    "# Applying a promo to the fiction book\n",
    "fiction_book.apply_promo(0.1)  # Applying a 10% promo\n",
    "print(fiction_book)  # Output: Manuscript: The Great Gatsby, Stock: 10, Writer: F. Scott Fitzgerald, Cost: 27.0\n",
    "\n",
    "# Creating an instance of the Scholarly class\n",
    "scholarly_book = Scholarly(name=\"A Brief History of Time\", stock=5, writer=\"Stephen Hawking\", cost=40.00, subject=\"Cosmology\")\n",
    "print(scholarly_book)  # Output: Manuscript: A Brief History of Time, Stock: 5, Writer: Stephen Hawking, Cost: 40.0\n",
    "\n",
    "# Applying a promo to the scholarly book\n",
    "scholarly_book.apply_promo(0.2)  # Applying a 20% promo\n",
    "print(scholarly_book)  # Output: Manuscript: A Brief History of Time, Stock: 5, Writer: Stephen Hawking, Cost: 32.0\n",
    "        "
   ]
  },
  {
   "cell_type": "markdown",
   "metadata": {},
   "source": [
    "<h3>Super Keyword</h3>\n",
    "\n",
    "<p>\n",
    "<strong style=\"color:blue;\">Super</strong> is a built-in function in Python that is used to call a method from a parent (base) class. It is commonly used in the context of inheritance, particularly when you want to extend or modify the behavior of a parent class's method in a child (derived) class.\n",
    "</p>"
   ]
  },
  {
   "cell_type": "markdown",
   "metadata": {},
   "source": [
    "<h3>Multiple Inheritance</h3>\n",
    "\n",
    "<p><strong style=\"color:blue;\">Multiple Inheritance:</strong> Multiple inheritance is a feature that allows a class to inherit attributes and methods from more than one parent class.</p>\n",
    "\n",
    "<p><strong style=\"color:blue;\">Benefits:</strong></p>\n",
    "<ul>\n",
    "  <li>Creates versatile classes with functionalities from multiple parents.</li>\n",
    "  <li>Encourages code reusability and organized structure.</li>\n",
    "  <li>Enhances design patterns through unique class combinations.</li>\n",
    "</ul>"
   ]
  },
  {
   "cell_type": "code",
   "execution_count": 151,
   "metadata": {},
   "outputs": [
    {
     "name": "stdout",
     "output_type": "stream",
     "text": [
      "I'm a vehicle.\n",
      "I can carry loads like a truck.\n",
      "I can carry loads like a truck.\n"
     ]
    }
   ],
   "source": [
    "class Vehicle:\n",
    "    def describe(self):\n",
    "        print(\"I'm a vehicle.\")\n",
    "\n",
    "class Car(Vehicle):\n",
    "    def drive(self):\n",
    "        print(\"I can be driven like a car.\")\n",
    "\n",
    "class Truck(Vehicle):\n",
    "    def drive(self):\n",
    "        print(\"I can carry loads like a truck.\")\n",
    "\n",
    "class CarTruck(Truck, Car):\n",
    "    pass\n",
    "\n",
    "car_truck = CarTruck()\n",
    "car_truck.describe()  # prints: I'm a vehicle.\n",
    "car_truck.drive()    # prints: I can be driven like a car.\n",
    "car_truck.drive()     # prints: I can carry loads like a truck."
   ]
  },
  {
   "cell_type": "markdown",
   "metadata": {},
   "source": [
    "<h3>Polymorphism</h3>\n",
    "\n",
    "The term 'polymorphism' comes from the Greek language and means 'something that takes on multiple forms.' \n",
    "\n",
    "<p><strong style=\"color:blue;\">Polymorphism:</strong> Polymorphism refers to a subclass's ability to adapt a method that already exists in its superclass to meet its needs. To put it another way, a subclass can use a method from its superclass as is or modify it as needed.</p>\n",
    "<p><strong style=\"color:blue;\">Benefits:</strong></p>\n",
    "<ul>\n",
    "  <li>Flexibility in code, easier maintenance.</li>\n",
    "</ul>\n",
    "\n"
   ]
  },
  {
   "cell_type": "code",
   "execution_count": null,
   "metadata": {},
   "outputs": [],
   "source": [
    "class Book:\n",
    "    def __init__(self, name, stock, writer, cost):\n",
    "        self.name = name\n",
    "        self.stock = stock\n",
    "        self.writer = writer\n",
    "        self._cost = cost\n",
    "        self._promo = None\n",
    "\n",
    "    def apply_promo(self, promo):\n",
    "        self._promo = promo\n",
    "\n",
    "    def fetch_cost(self):\n",
    "        if self._promo:\n",
    "            return self._cost * (1 - self._promo)\n",
    "        return self._cost\n",
    "\n",
    "    def __str__(self):\n",
    "        return f\"Book: {self.name}, Stock: {self.stock}, Writer: {self.writer}, Cost: {self.fetch_cost()}\"\n",
    "\n",
    "\n",
    "class Fiction(Book):\n",
    "    def __init__(self, name, stock, writer, cost, chapters):\n",
    "        super().__init__(name, stock, writer, cost)\n",
    "        self.chapters = chapters\n",
    "\n",
    "    def __str__(self):\n",
    "        return f\"{super().__str__()}, Chapters: {self.chapters}\"\n",
    "\n",
    "\n",
    "class Scholarly(Book):\n",
    "    def __init__(self, name, stock, writer, cost, subject):\n",
    "        super().__init__(name, stock, writer, cost)\n",
    "        self.subject = subject\n",
    "\n",
    "    def __str__(self):\n",
    "        return f\"{super().__str__()}, Subject: {self.subject}\"\n",
    "\n",
    "\n",
    "# Creating an instance of the Fiction class\n",
    "fiction_book = Fiction(name=\"The Great Gatsby\", stock=10, writer=\"F. Scott Fitzgerald\", cost=30.00, chapters=9)\n",
    "print(fiction_book)  # Output: Manuscript: The Great Gatsby, Stock: 10, Writer: F. Scott Fitzgerald, Cost: 30.0, Chapters: 9\n",
    "\n",
    "# Applying a promo to the fiction book\n",
    "fiction_book.apply_promo(0.1)  # Applying a 10% promo\n",
    "print(fiction_book)  # Output: Manuscript: The Great Gatsby, Stock: 10, Writer: F. Scott Fitzgerald, Cost: 27.0, Chapters: 9\n",
    "\n",
    "# Creating an instance of the Scholarly class\n",
    "scholarly_book = Scholarly(name=\"A Brief History of Time\", stock=5, writer=\"Stephen Hawking\", cost=40.00, subject=\"Cosmology\")\n",
    "print(scholarly_book)  # Output: Manuscript: A Brief History of Time, Stock: 5, Writer: Stephen Hawking, Cost: 40.0, Subject: Cosmology\n",
    "\n",
    "# Applying a promo to the scholarly book\n",
    "scholarly_book.apply_promo(0.2)  # Applying a 20% promo\n",
    "print(scholarly_book)  # Output: Manuscript: A Brief History of Time, Stock: 5, Writer: Stephen Hawking, Cost: 32.0, Subject: Cosmology\n"
   ]
  },
  {
   "cell_type": "code",
   "execution_count": 154,
   "metadata": {},
   "outputs": [
    {
     "name": "stdout",
     "output_type": "stream",
     "text": [
      "Eating like an animal\n",
      "I can sleep!\n",
      "I can bark! Woof woof!!\n"
     ]
    }
   ],
   "source": [
    "# base class\n",
    "class Animal:\n",
    "\n",
    "    def eat(self):\n",
    "        print(\"Eating like an animal\")\n",
    "\n",
    "    def sleep(self):\n",
    "        print(\"I can sleep!\")\n",
    "\n",
    "# derived class\n",
    "class Dog(Animal):\n",
    "\n",
    "    def bark(self):\n",
    "        print(\"I can bark! Woof woof!!\")\n",
    "\n",
    "    def eat(self):  #override\n",
    "        print(\"Eating like a dog\")\n",
    "\n",
    "\n",
    "\n",
    "# Create object of the Dog class\n",
    "dog1 = Dog()\n",
    "\n",
    "# Calling members of the base class\n",
    "dog1.eat()\n",
    "dog1.sleep()\n",
    "\n",
    "# Calling member of the derived class\n",
    "dog1.bark()\n",
    "\n"
   ]
  },
  {
   "cell_type": "markdown",
   "metadata": {},
   "source": [
    "<h3>Abstraction</h3>\n",
    "\n",
    "<p><strong style=\"color:blue;\">Abstraction:</strong>  The process of hiding the implementation details and showing what is only necessary to the outside world.</p>\n",
    "\n",
    "<p><strong style=\"color:blue;\">Benefits:</strong></p>\n",
    "<ul>\n",
    "  <li>Provides a clear and simple interface.</li>\n",
    "  <li>Improves code maintainability.</li>\n",
    "  <li>Makes code more understandable and engaging.</li>\n",
    "</ul>\n"
   ]
  },
  {
   "cell_type": "code",
   "execution_count": null,
   "metadata": {},
   "outputs": [],
   "source": [
    "from abc import ABC, abstractmethod\n",
    "\n",
    "class Shape(ABC):  # Declaring an Abstract Base Class\n",
    "    @abstractmethod\n",
    "    def area(self):  # Abstract method\n",
    "        pass\n",
    "    \n",
    "    @abstractmethod\n",
    "    def perimeter(self):  # Abstract method\n",
    "        pass\n",
    "\n",
    "class Circle(Shape):  # Concrete class implementing the Shape ABC\n",
    "    def __init__(self, radius):\n",
    "        self.radius = radius\n",
    "    \n",
    "    def area(self):  # Implementing the abstract method\n",
    "        return 3.14 * self.radius * self.radius\n",
    "    \n",
    "    def perimeter(self):  # Implementing the abstract method\n",
    "        return 2 * 3.14 * self.radius\n"
   ]
  },
  {
   "cell_type": "markdown",
   "metadata": {},
   "source": [
    "<h3>Method Overloading</h3>\n",
    "<p>Method overloading is a feature that allows a class to have more than one method with the same name but different numbers or types of parameters. In some programming languages, method overloading is achieved by defining multiple methods with the same name. However, Python does not support traditional method overloading in this way.</p>\n",
    "<p>In Python, method overloading can be achieved by using default arguments or variable-length argument lists. This allows a method to be called with different numbers of arguments, providing similar functionality to traditional method overloading.</p>"
   ]
  },
  {
   "cell_type": "code",
   "execution_count": 157,
   "metadata": {},
   "outputs": [
    {
     "name": "stdout",
     "output_type": "stream",
     "text": [
      "8\n",
      "10\n"
     ]
    }
   ],
   "source": [
    "class Calculator:\n",
    "    def add(self, a, b, c=0):\n",
    "        return a + b + c\n",
    "\n",
    "calc = Calculator()\n",
    "result1 = calc.add(5, 3)    # Adding two numbers\n",
    "result2 = calc.add(5, 3, 2) # Adding three numbers\n",
    "\n",
    "print(result1)  # Output: 8\n",
    "print(result2)  # Output: 10"
   ]
  },
  {
   "cell_type": "code",
   "execution_count": 171,
   "metadata": {},
   "outputs": [
    {
     "name": "stdout",
     "output_type": "stream",
     "text": [
      "<class 'dict'>\n",
      "name: John\n",
      "age: 30\n",
      "city: New York\n"
     ]
    }
   ],
   "source": [
    "# class Calculator:\n",
    "#     def add(self, **a):\n",
    "#         print(type(a))\n",
    "        \n",
    "class Calculator1:\n",
    "    def add(self, **a):\n",
    "        print(type(a))   \n",
    "\n",
    "cal = Calculator1()\n",
    "cal.add(a=\"1\",b=\"2\")     \n",
    "\n",
    "def greet(**kwargs):\n",
    "    for key, value in kwargs.items():\n",
    "        print(f\"{key}: {value}\")\n",
    "\n",
    "greet(name=\"John\", age=30, city=\"New York\")        \n",
    "\n",
    "# calc = Calculator()\n",
    "# result1 = calc.add(5, 3)      # Adding two numbers\n",
    "# result2 = calc.add(5, 3, 2, 10)   # Adding three numbers\n",
    "# result2 = calc.add(5, 3, 2, 10, 11, 100, 'c')   # Adding three numbers\n",
    "\n",
    "# print(result1)  # Output: 8\n",
    "# print(result2)  # Output: 10"
   ]
  },
  {
   "cell_type": "markdown",
   "metadata": {},
   "source": [
    "<h3>Class and Instance Attributes</h3>\n",
    "<p><strong style=\"color:blue;\">Class Attributes:</strong> These attributes are shared by all instances of the class. They belong to the class itself, not to any particular instance of the class.</p>\n",
    "<p><strong style=\"color:blue;\">Instance Attributes</strong>: These attributes are specific to each instance of the class. They are not shared by instances.</p>"
   ]
  },
  {
   "cell_type": "code",
   "execution_count": 178,
   "metadata": {},
   "outputs": [
    {
     "name": "stdout",
     "output_type": "stream",
     "text": [
      "0\n",
      "1\n",
      "2\n"
     ]
    }
   ],
   "source": [
    "class Car:\n",
    "    number_of_cars = 0 # class attribute\n",
    "\n",
    "    def __init__(self, color):\n",
    "        self.color = color  # instance attribute\n",
    "        Car.number_of_cars += 1\n",
    "\n",
    "print(Car.number_of_cars)\n",
    "\n",
    "# Create instances of Car\n",
    "car1 = Car('red')\n",
    "print(Car.number_of_cars)\n",
    "car2 = Car('blue')\n",
    "\n",
    "\n",
    "print(Car.number_of_cars)\n"
   ]
  },
  {
   "cell_type": "markdown",
   "metadata": {},
   "source": [
    "<h3>Class Methods and Instance Methods</h3>\n",
    "\n",
    "<p><strong style=\"color:blue;\">Class Methods:</strong> These methods are bound to the class and not the instance of the class. They can be called on the class itself, rather than instances of the class. Class methods take a first parameter <code>cls</code>, which stands for the class.</p>\n",
    "\n",
    "<p><strong style=\"color:green;\">Instance Methods:</strong> These methods are bound to instances of the class. They are used to perform operations that typically manipulate instance attributes. The first parameter is usually <code>self</code>, which refers to the instance of the class.</p>"
   ]
  },
  {
   "cell_type": "code",
   "execution_count": 183,
   "metadata": {},
   "outputs": [
    {
     "name": "stdout",
     "output_type": "stream",
     "text": [
      "Total cars: 2\n",
      "red car says Honk! Honk!\n"
     ]
    }
   ],
   "source": [
    "class Car:\n",
    "    number_of_cars = 0  # class attribute\n",
    "\n",
    "    @classmethod\n",
    "    def total_cars(cls):  # class method\n",
    "        print(f\"Total cars: {cls.number_of_cars}\")\n",
    "\n",
    "    def __init__(self, color):\n",
    "        self.color = color  # instance attribute\n",
    "        Car.number_of_cars += 1\n",
    "\n",
    "    def honk(self):  # instance method\n",
    "        print(f\"{self.color} car says Honk! Honk!\")\n",
    "\n",
    "# Create instances of Car\n",
    "car1 = Car('red')\n",
    "car2 = Car('blue')\n",
    "\n",
    "# Call class method\n",
    "Car.total_cars()\n",
    "\n",
    "# Call instance method\n",
    "car1.honk()"
   ]
  },
  {
   "cell_type": "markdown",
   "metadata": {},
   "source": [
    "<h3><strong style=\"color:green;\">OOPs Knowledge Check</strong></h3>\n",
    "\n",
    "\n",
    "<p>Question 1: Consider the following code snippet:</p>\n",
    "\n",
    "```Python\n",
    "class A:\n",
    "    def show(self):\n",
    "        return \"Class A\"\n",
    "\n",
    "class B(A):\n",
    "    def show(self):\n",
    "        return \"Class B\"\n",
    "\n",
    "class C(B):\n",
    "    def show(self):\n",
    "        return super().show()\n",
    "\n",
    "c = C()\n",
    "print(c.show())\n",
    "```\n",
    "\n",
    "<p>What will be the output of the code above?</p>\n",
    "<ul>\n",
    "  <li>A) Class A</li>\n",
    "  <li>B) Class B</li>\n",
    "  <li>C) Class C</li>\n",
    "  <li>D) An Error</li>\n",
    "</ul>\n",
    "\n",
    "<p>Question 2: Consider the following code snippet:</p>\n",
    "\n",
    "```Python\n",
    "class Vehicle:\n",
    "    def start(self):\n",
    "        return \"Vehicle started\"\n",
    "\n",
    "class Car(Vehicle):\n",
    "    def start(self):\n",
    "        return \"Car started\"\n",
    "\n",
    "class ElectricCar(Car):\n",
    "    def start(self):\n",
    "        return super(Car, self).start()\n",
    "\n",
    "electric_car = ElectricCar()\n",
    "print(electric_car.start())\n",
    "```\n",
    "\n",
    "<p>What will be the output of the code above?</p>\n",
    "<ul>\n",
    "  <li>A) Vehicle started</li>\n",
    "  <li>B) Car started</li>\n",
    "  <li>C) ElectricCar started</li>\n",
    "  <li>D) An Error</li>\n",
    "</ul>\n"
   ]
  },
  {
   "cell_type": "code",
   "execution_count": 187,
   "metadata": {},
   "outputs": [
    {
     "name": "stdout",
     "output_type": "stream",
     "text": [
      "Class B\n"
     ]
    }
   ],
   "source": [
    "class A:\n",
    "    def show(self):\n",
    "        return \"Class A\"\n",
    "\n",
    "class B():\n",
    "    def show(self):\n",
    "        return \"Class B\"\n",
    "\n",
    "# MRO (Method resolution order)\n",
    "class C(B, A):\n",
    "    def show(self):\n",
    "        return super().show()\n",
    "\n",
    "c = C()\n",
    "print(c.show())"
   ]
  },
  {
   "cell_type": "code",
   "execution_count": 189,
   "metadata": {},
   "outputs": [
    {
     "name": "stdout",
     "output_type": "stream",
     "text": [
      "Vehicle started\n"
     ]
    }
   ],
   "source": [
    "class Vehicle:\n",
    "    def start(self):\n",
    "        return \"Vehicle started\"\n",
    "\n",
    "class Car(Vehicle):\n",
    "    def start(self):\n",
    "        return \"Car started\"\n",
    "\n",
    "class ElectricCar(Car):\n",
    "    def start(self):\n",
    "        return super(Car, self).start()\n",
    "\n",
    "electric_car = ElectricCar()\n",
    "print(electric_car.start())"
   ]
  },
  {
   "cell_type": "markdown",
   "metadata": {},
   "source": [
    "<h1>Exception Handling</h1>\n",
    "\n",
    "<p><strong style=\"color:blue;\">Definition:</strong> Exception handling is a mechanism for gracefully responding to unexpected errors during program execution. In Python, this is achieved using the `try`, `except`, `finally`, and `raise` statements.\n",
    "</p>\n",
    "<p><strong style=\"color:blue;\">Importance:</strong> Proper handling prevents the program from crashing and allows more graceful error management.</p>\n",
    "\n",
    "<p><strong style=\"color:blue;\">Common Exceptions in Python:</strong></p> \n",
    "<ul>\n",
    "<li>SyntaxError</li>\n",
    "<li>TypeError</li>\n",
    "<li>ValueError</li>\n",
    "<li>IndexError</li>\n",
    "<li>KeyError</li>\n",
    "<li>FileNotFoundError</li>\n",
    "</ul>"
   ]
  },
  {
   "cell_type": "markdown",
   "metadata": {},
   "source": [
    "### Basic Syntax\n",
    "\n",
    "The basic syntax for exception handling in Python is as follows:\n",
    "\n",
    "```python\n",
    "try:\n",
    "    # Code that may raise an exception\n",
    "except:\n",
    "    # Code to handle the exception\n"
   ]
  },
  {
   "cell_type": "code",
   "execution_count": 209,
   "metadata": {},
   "outputs": [
    {
     "name": "stdout",
     "output_type": "stream",
     "text": [
      "10.0\n",
      "50\n",
      "5.0\n",
      "50\n",
      "division by zero\n",
      "3.3333333333333335\n",
      "50\n",
      "unsupported operand type(s) for /: 'int' and 'str'\n",
      "2.0\n",
      "50\n"
     ]
    }
   ],
   "source": [
    "# Variation 3\n",
    "# nums = [10, 20, 0, 30]\n",
    "# for num in nums:\n",
    "#     try:\n",
    "#         print(100/num)\n",
    "#     except:\n",
    "#         pass  \n",
    "#     print(100/num)  \n",
    "    \n",
    "# Variation 4\n",
    "nums = [10, 20, 0, 30, 'a', 50]\n",
    "for num in nums:\n",
    "    try:\n",
    "        print(100/num)\n",
    "    except ZeroDivisionError as e:\n",
    "        print(e)\n",
    "    except IndexError as e:\n",
    "        print(e)    \n",
    "    except Exception as e:\n",
    "        print(e)        "
   ]
  },
  {
   "cell_type": "code",
   "execution_count": 210,
   "metadata": {},
   "outputs": [
    {
     "name": "stdout",
     "output_type": "stream",
     "text": [
      "An error occurred! division by zero\n"
     ]
    }
   ],
   "source": [
    "try:\n",
    "    result = 10 / 0\n",
    "except (ZeroDivisionError, ValueError) as e:\n",
    "    print(f\"An error occurred! {e}\")"
   ]
  },
  {
   "cell_type": "code",
   "execution_count": 213,
   "metadata": {},
   "outputs": [
    {
     "name": "stdout",
     "output_type": "stream",
     "text": [
      "Index Out of Bound.\n"
     ]
    }
   ],
   "source": [
    "try: \n",
    "    even_numbers = [2,4,6,8]\n",
    "    print(even_numbers[5])\n",
    "\n",
    "except ZeroDivisionError:\n",
    "    print(\"Denominator cannot be 0.\")\n",
    "    \n",
    "except IndexError:\n",
    "    print(\"Index Out of Bound.\")"
   ]
  },
  {
   "cell_type": "markdown",
   "metadata": {},
   "source": [
    "<h3>Finally Keyword</h3>\n",
    "\n",
    "<p><strong style=\"color:blue;\">finally:</strong> A block of code that will be executed regardless of whether an exception was raised or not.</p>\n",
    "<p><strong style=\"color:blue;\">Usage:</strong></p>\n",
    "<ul>\n",
    "  <li>Cleaning up resources (e.g., closing files, releasing connections).</li>\n",
    "  <li>Ensuring that specific actions are carried out, even if an error occurs.</li>\n",
    "</ul>\n",
    "<p><strong style=\"color:blue;\">Example:</strong></p>\n",
    "\n",
    "```Python\n",
    "try:\n",
    "    # code that may raise an exception\n",
    "except:\n",
    "    # code to handle the exception\n",
    "finally:\n",
    "    # code that will always be executed\n",
    "```\n",
    "\n",
    "\n"
   ]
  },
  {
   "cell_type": "code",
   "execution_count": 216,
   "metadata": {},
   "outputs": [
    {
     "name": "stdout",
     "output_type": "stream",
     "text": [
      "division by zero\n",
      "This will execute no matter what.\n"
     ]
    }
   ],
   "source": [
    "def divide(a, b):\n",
    "    return a / b\n",
    "\n",
    "try:\n",
    "    result = divide(10, 0)\n",
    "except Exception as e:\n",
    "    print(e)\n",
    "else:\n",
    "    print(\"Division successful:\", result)\n",
    "finally:\n",
    "    print(\"This will execute no matter what.\")"
   ]
  },
  {
   "cell_type": "markdown",
   "metadata": {},
   "source": [
    "### Handling Multiple Exceptions\n",
    "\n",
    "You can catch multiple exceptions by specifying them in a tuple.\n",
    "\n",
    "```python\n",
    "try:\n",
    "    # Code that may raise an exception\n",
    "except (SomeException, AnotherException):\n",
    "    # Code to handle the exception\n"
   ]
  },
  {
   "cell_type": "markdown",
   "metadata": {},
   "source": [
    "### Multiple Except Blocks\n",
    "\n",
    "Multiple except blocks allow us to handle each exception differently."
   ]
  },
  {
   "cell_type": "code",
   "execution_count": null,
   "metadata": {},
   "outputs": [],
   "source": [
    "nums = [10, 20, 0, 30, 'a', 50]\n",
    "for num in nums:\n",
    "    try:\n",
    "        print(100/num)\n",
    "    except ZeroDivisionError as e:\n",
    "        print(e)\n",
    "    except IndexError as e:\n",
    "        print(e)    \n",
    "    except Exception as e:\n",
    "        print(e)"
   ]
  },
  {
   "cell_type": "markdown",
   "metadata": {},
   "source": [
    "### The `else` Clause\n",
    "\n",
    "The `else` clause runs when the `try` block does not raise any exceptions.\n",
    "\n",
    "```python\n",
    "try:\n",
    "    # Code that may raise an exception\n",
    "except SomeException:\n",
    "    # Code to handle the exception\n",
    "else:\n",
    "    # Code to run if no exception occurs\n",
    "finally:\n",
    "    # code that will always be executed\n",
    "```    \n",
    "\n"
   ]
  },
  {
   "cell_type": "code",
   "execution_count": 220,
   "metadata": {},
   "outputs": [
    {
     "name": "stdout",
     "output_type": "stream",
     "text": [
      "division by zero\n",
      "This will execute no matter what.\n"
     ]
    }
   ],
   "source": [
    "def divide(a, b):\n",
    "    return a / b\n",
    "\n",
    "try:\n",
    "    result = divide(10, 0)\n",
    "except Exception as e:\n",
    "    print(e)\n",
    "else:\n",
    "    print(\"Division successful:\", result)\n",
    "finally:\n",
    "    print(\"This will execute no matter what.\")"
   ]
  },
  {
   "cell_type": "markdown",
   "metadata": {},
   "source": [
    "<h3>Raising Exception</h3>\n",
    "\n",
    "<p><strong style=\"color:blue;\">Raising Exceptions:</strong> Intentionally triggering an error using the <code>raise</code> keyword.</p>\n",
    "<p><strong style=\"color:blue;\">Usage:</strong></p>\n",
    "<ul>\n",
    "  <li>Enforcing constraints or invariants in the code.</li>\n",
    "  <li>Signaling the presence of an error that requires special handling.</li>\n",
    "</ul>\n"
   ]
  },
  {
   "cell_type": "code",
   "execution_count": 222,
   "metadata": {},
   "outputs": [
    {
     "name": "stdout",
     "output_type": "stream",
     "text": [
      "Cannot divide by zero\n"
     ]
    }
   ],
   "source": [
    "def divide(a,b):\n",
    "    if b == 0:\n",
    "        raise ValueError(\"Cannot divide by zero\")\n",
    "    return a/b\n",
    "\n",
    "\n",
    "try:\n",
    "    result = divide(10, 0)\n",
    "except Exception as e:\n",
    "    print(e) "
   ]
  },
  {
   "cell_type": "markdown",
   "metadata": {},
   "source": [
    "<h3>Custom Exception</h3>\n",
    "\n",
    "<p><strong style=\"color:blue;\">Definition:</strong> You can define custom exceptions by creating new exception classes. These are typically derived from the built-in Exception class or one of its subclasses.</p>\n",
    "<p><strong style=\"color:blue;\">Importance:</strong> Custom exceptions allow for more specific error handling, making it easier to understand the nature of the error and to respond appropriately.</p>\n",
    "<p><strong style=\"color:blue;\">Example:</strong></p>\n",
    "\n",
    "```Python\n",
    "# Define a new exception class\n",
    "class MyCustomException(Exception):\n",
    "    pass\n",
    "```\n",
    "\n",
    "<p>This custom exception can then be raised and caught like any other exception, allowing for more precise error messages and handling.</p>\n"
   ]
  },
  {
   "cell_type": "code",
   "execution_count": 223,
   "metadata": {},
   "outputs": [
    {
     "name": "stdout",
     "output_type": "stream",
     "text": [
      "A MyCustomException occured: This is my custom error message!\n"
     ]
    }
   ],
   "source": [
    "class MyCustomException(Exception):\n",
    "    pass\n",
    "\n",
    "try:\n",
    "    # Simulate a situation where your custom exception is raised\n",
    "    raise MyCustomException(\"This is my custom error message!\")\n",
    "except MyCustomException as e:\n",
    "    # Handle your custom ececption\n",
    "    print(f\"A MyCustomException occured: {e}\")"
   ]
  },
  {
   "cell_type": "markdown",
   "metadata": {},
   "source": [
    "<h3><strong style=\"color:green;\">Exception Handling Knowledge Check</strong></h3>\n",
    "\n",
    "<h4>Question 1:</h4>\n",
    "\n",
    "You are developing a simple banking system. You need to ensure that if a user tries to withdraw an amount greater than their available balance, a custom exception should be raised to handle this specific error scenario.\n",
    "\n",
    "<h4>Question 2:</h4>\n",
    "\n",
    "Is it mandatory to have an except block after a try block?"
   ]
  },
  {
   "cell_type": "code",
   "execution_count": 225,
   "metadata": {},
   "outputs": [],
   "source": [
    "# Define the custom exception\n",
    "class InsufficientBalanceException(Exception):\n",
    "    pass\n",
    "\n",
    "# Define the BankAccount class\n",
    "class BankAccount:\n",
    "    def __init__(self, balance):\n",
    "        self.balance = balance\n",
    "        \n",
    "    def withdraw(self, amount):\n",
    "        if amount > self.balance:\n",
    "            raise InsufficientBalanceException(\"Insufficient balance for withdrawal!\")\n",
    "\n",
    "# Demonstrate the custom exception\n",
    "account = BankAccount(100)\n",
    "\n",
    "try:\n",
    "    account.withdraw(150)\n",
    "except InsufficientBalanceException as e:\n",
    "    print(f\"Error: {e}\")  # Should print: Error: Insufficient balance for withdrawal!\n"
   ]
  },
  {
   "cell_type": "markdown",
   "metadata": {},
   "source": [
    "<h1>File Handling</h1>\n",
    "<p><strong style=\"color:blue;\">Definition:</strong> The process of reading from or writing to a file.</p>\n",
    "<p><strong style=\"color:blue;\">Importance:</strong> Persisting data, reading data from external sources, and generating reports. File handling enables the storage and retrieval of data, allowing for more complex and data-driven applications.</p>\n",
    "\n",
    "<h3>6.1 Different Modes to Open a File in Python</h3>\n",
    "<ul>\n",
    "  <li><strong style=\"color:blue;\">r:</strong> Open a file for reading.</li>\n",
    "  <li><strong style=\"color:blue;\">w:</strong> Open a file for writing. Creates a new file if it does not exist or truncates the file if it exists.</li>\n",
    "  <li><strong style=\"color:blue;\">x:</strong> Open a file for exclusive creation. If the file already exists, the operation fails.</li>\n",
    "  <li><strong style=\"color:blue;\">a:</strong> Open a file for appending at the end of the file without truncating it. Creates a new file if it does not exist.</li>\n",
    "  <li><strong style=\"color:blue;\">b:</strong> Binary mode. This mode allows you to read or write binary data. It can be used in combination with 'r', 'w', 'a', or 'x' (e.g., 'rb', 'wb', 'ab', 'xb').</li>\n",
    "  <li><strong style=\"color:blue;\">t:</strong> Text mode. This mode allows you to read or write text data. It can be used in combination with 'r', 'w', 'a', or 'x'. This is the default mode if neither 'b' nor 't' is specified.</li>\n",
    "  <li><strong style=\"color:blue;\">+:</strong> Update mode. This mode allows you to both read and write data. It can be used in combination with 'r', 'w', or 'a' (e.g., 'r+', 'w+', 'a+').</li>\n",
    "</ul>\n",
    "\n"
   ]
  },
  {
   "cell_type": "markdown",
   "metadata": {},
   "source": [
    "<h3>Reading from a File</h3>\n",
    "    \n",
    "<p><strong style=\"color:blue;\">read():</strong> Reads the entire content of the file</p>\n",
    "<p><strong style=\"color:blue;\">readline():</strong> Reads a single line from the file</p>\n",
    "<p><strong style=\"color:blue;\">readlines():</strong> Reads all lines and returns a list of lines</p>\n"
   ]
  },
  {
   "cell_type": "markdown",
   "metadata": {},
   "source": [
    "<h3>Writing to a File</h3>\n",
    "\n",
    "<p><strong style=\"color:blue;\">write():</strong> Writes a string to the file</p>\n",
    "<p><strong style=\"color:blue;\">writelines():</strong> Writes a list of strings to the file</p>"
   ]
  },
  {
   "cell_type": "code",
   "execution_count": 226,
   "metadata": {},
   "outputs": [
    {
     "name": "stdout",
     "output_type": "stream",
     "text": [
      "Test1, Test11\n",
      "\n",
      "Test2\n",
      "\n",
      "Test3\n",
      "\n",
      "Test4\n"
     ]
    }
   ],
   "source": [
    "file = open('example.txt', 'r')\n",
    "\n",
    "# This will print every line one by one in the file\n",
    "for each in file:\n",
    "\tprint (each)"
   ]
  },
  {
   "cell_type": "code",
   "execution_count": 227,
   "metadata": {},
   "outputs": [
    {
     "name": "stdout",
     "output_type": "stream",
     "text": [
      "Test1, Test11\n",
      "Test2\n",
      "Test3\n",
      "Test4\n"
     ]
    }
   ],
   "source": [
    "file = open(\"example.txt\", \"r\")\n",
    "content  = file.read()\n",
    "print(content)\n",
    "file.close() "
   ]
  },
  {
   "cell_type": "code",
   "execution_count": null,
   "metadata": {},
   "outputs": [],
   "source": [
    "# Open the file with \"with\" statement so the file is auto closed\n",
    "with open('example.txt', 'r') as file:\n",
    "    # Read the file\n",
    "    content = file.read()\n",
    "    # Print the content\n",
    "    print(content)"
   ]
  },
  {
   "cell_type": "code",
   "execution_count": 228,
   "metadata": {},
   "outputs": [
    {
     "name": "stdout",
     "output_type": "stream",
     "text": [
      "Test1\n"
     ]
    }
   ],
   "source": [
    "with open('example.txt', 'r') as file:\n",
    "    # Read the file\n",
    "    content = file.read(5)\n",
    "    # Print the content\n",
    "    print(content)"
   ]
  },
  {
   "cell_type": "code",
   "execution_count": 229,
   "metadata": {},
   "outputs": [
    {
     "name": "stdout",
     "output_type": "stream",
     "text": [
      "['Test1', ' Test11']\n",
      "['Test2']\n",
      "['Test3']\n",
      "['Test4']\n"
     ]
    }
   ],
   "source": [
    "with open('example.txt', 'r') as file:\n",
    "    data = file.readlines()\n",
    "    for line in data:\n",
    "        word = line.strip().split(',') # strip() will remove the leading and trailing whitespace characters such as \\n from each line.\n",
    "        print (word)"
   ]
  },
  {
   "cell_type": "code",
   "execution_count": 230,
   "metadata": {},
   "outputs": [
    {
     "name": "stdout",
     "output_type": "stream",
     "text": [
      "Test1, Test11\n",
      "\n"
     ]
    }
   ],
   "source": [
    "# Open the file in read mode\n",
    "with open('example.txt', 'r') as file:\n",
    "    # Use the readline function to read the first line of the file\n",
    "    line = file.readline()\n",
    "    \n",
    "    # Print the read line\n",
    "    print(line)  # Output: This is the first line of the file."
   ]
  },
  {
   "cell_type": "code",
   "execution_count": 233,
   "metadata": {},
   "outputs": [
    {
     "name": "stdout",
     "output_type": "stream",
     "text": [
      "Test1, Test11\n",
      "Test2\n",
      "Test3\n",
      "Test4\n"
     ]
    }
   ],
   "source": [
    "# Open the file in read mode\n",
    "with open('example.txt', 'r') as file:\n",
    "    # Initialize line variable with the first line of the file\n",
    "    line = file.readline()\n",
    "    \n",
    "    # Loop until readline returns an empty string\n",
    "    while line:\n",
    "        # Print the read line\n",
    "        print(line.strip())  # Using strip() to remove the trailing newline character\n",
    "        \n",
    "        # Read the next line\n",
    "        line = file.readline()"
   ]
  },
  {
   "cell_type": "code",
   "execution_count": 234,
   "metadata": {},
   "outputs": [],
   "source": [
    "lines = [\"First line\\n\", \"Second line\\n\", \"test line 3rd\\n\"]\n",
    "with open(\"out\", \"w\") as file:\n",
    "    file.writelines(lines)"
   ]
  },
  {
   "cell_type": "code",
   "execution_count": 238,
   "metadata": {},
   "outputs": [
    {
     "ename": "FileNotFoundError",
     "evalue": "[Errno 2] No such file or directory: 'not_exist1.txt'",
     "output_type": "error",
     "traceback": [
      "\u001b[0;31m---------------------------------------------------------------------------\u001b[0m",
      "\u001b[0;31mFileNotFoundError\u001b[0m                         Traceback (most recent call last)",
      "\u001b[1;32m/Users/gauravsharma/Documents/Teachings/PythonWeek3/PracticeLiveClass/Python-Fundamentals-3.ipynb Cell 103\u001b[0m line \u001b[0;36m1\n\u001b[0;32m----> <a href='vscode-notebook-cell:/Users/gauravsharma/Documents/Teachings/PythonWeek3/PracticeLiveClass/Python-Fundamentals-3.ipynb#Y442sZmlsZQ%3D%3D?line=0'>1</a>\u001b[0m \u001b[39mwith\u001b[39;00m \u001b[39mopen\u001b[39;49m(\u001b[39m\"\u001b[39;49m\u001b[39mnot_exist1.txt\u001b[39;49m\u001b[39m\"\u001b[39;49m, \u001b[39m\"\u001b[39;49m\u001b[39mr\u001b[39;49m\u001b[39m\"\u001b[39;49m) \u001b[39mas\u001b[39;00m file:\n\u001b[1;32m      <a href='vscode-notebook-cell:/Users/gauravsharma/Documents/Teachings/PythonWeek3/PracticeLiveClass/Python-Fundamentals-3.ipynb#Y442sZmlsZQ%3D%3D?line=1'>2</a>\u001b[0m     file\u001b[39m.\u001b[39mread() \n",
      "File \u001b[0;32m~/Library/Python/3.11/lib/python/site-packages/IPython/core/interactiveshell.py:284\u001b[0m, in \u001b[0;36m_modified_open\u001b[0;34m(file, *args, **kwargs)\u001b[0m\n\u001b[1;32m    277\u001b[0m \u001b[39mif\u001b[39;00m file \u001b[39min\u001b[39;00m {\u001b[39m0\u001b[39m, \u001b[39m1\u001b[39m, \u001b[39m2\u001b[39m}:\n\u001b[1;32m    278\u001b[0m     \u001b[39mraise\u001b[39;00m \u001b[39mValueError\u001b[39;00m(\n\u001b[1;32m    279\u001b[0m         \u001b[39mf\u001b[39m\u001b[39m\"\u001b[39m\u001b[39mIPython won\u001b[39m\u001b[39m'\u001b[39m\u001b[39mt let you open fd=\u001b[39m\u001b[39m{\u001b[39;00mfile\u001b[39m}\u001b[39;00m\u001b[39m by default \u001b[39m\u001b[39m\"\u001b[39m\n\u001b[1;32m    280\u001b[0m         \u001b[39m\"\u001b[39m\u001b[39mas it is likely to crash IPython. If you know what you are doing, \u001b[39m\u001b[39m\"\u001b[39m\n\u001b[1;32m    281\u001b[0m         \u001b[39m\"\u001b[39m\u001b[39myou can use builtins\u001b[39m\u001b[39m'\u001b[39m\u001b[39m open.\u001b[39m\u001b[39m\"\u001b[39m\n\u001b[1;32m    282\u001b[0m     )\n\u001b[0;32m--> 284\u001b[0m \u001b[39mreturn\u001b[39;00m io_open(file, \u001b[39m*\u001b[39;49margs, \u001b[39m*\u001b[39;49m\u001b[39m*\u001b[39;49mkwargs)\n",
      "\u001b[0;31mFileNotFoundError\u001b[0m: [Errno 2] No such file or directory: 'not_exist1.txt'"
     ]
    }
   ],
   "source": [
    "with open(\"not_exist1.txt\", \"r\") as file:\n",
    "    file.read() "
   ]
  },
  {
   "cell_type": "markdown",
   "metadata": {},
   "source": [
    "<h1>JSON Module in Python</h1>\n",
    "<p><strong style=\"color:blue;\">JavaScript Object Notation (JSON):</strong> JSON is a lightweight data-interchange format.</p>\n",
    "<p>Benefits:</p>\n",
    "<ul>\n",
    "  <li>Human-readable</li>\n",
    "  <li>Language-independent</li>\n",
    "  <li>Easy to parse and generate</li>\n",
    "</ul>\n"
   ]
  },
  {
   "cell_type": "markdown",
   "metadata": {},
   "source": [
    "### What is Serialization and Deserialization in simple terms\n",
    "\n",
    "* Serialization is like creating an instruction manual (converting an object to a string or byte stream).\n",
    "* Deserialization is like using the manual to rebuild the object (converting a string or byte stream back to an object)."
   ]
  },
  {
   "cell_type": "markdown",
   "metadata": {},
   "source": [
    "<h3>JSON Module Functions:</h3>\n",
    "<ul>\n",
    "  <li><strong style=\"color:blue;\">json.dump:</strong> Serialize python object to JSON formatted file.</li>\n",
    "  <li><strong style=\"color:blue;\">json.dumps:</strong> Serialize python object to JSON formatted string.</li>\n",
    "  <li><strong style=\"color:blue;\">json.load():</strong> Deserialize JSON data from a file into a Python object.</li>\n",
    "  <li><strong style=\"color:blue;\">json.loads():</strong> Deserialize JSON data from a string into a Python object.</li>\n",
    "</ul>\n"
   ]
  },
  {
   "cell_type": "code",
   "execution_count": null,
   "metadata": {},
   "outputs": [],
   "source": [
    "var = {\n",
    "  \"name\": \"John Doe\",\n",
    "  \"age\": 30,\n",
    "  \"isStudent\": False,\n",
    "  \"address\": {\n",
    "    \"city\": \"New York\",\n",
    "    \"zipCode\": \"10001\"\n",
    "  },\n",
    "  \"courses\": [\"Math\", \"Science\", \"History\"]\n",
    "}"
   ]
  },
  {
   "cell_type": "code",
   "execution_count": 244,
   "metadata": {},
   "outputs": [
    {
     "name": "stdout",
     "output_type": "stream",
     "text": [
      "{'model': 'Tesla Model 3', 'color': 'red', 'year': 2021}\n"
     ]
    }
   ],
   "source": [
    "import json\n",
    "\n",
    "# Define a car data as Python dictionary\n",
    "car = {\n",
    "    \"model\": \"Tesla Model 3\",\n",
    "    \"color\": \"red\",\n",
    "    \"year\": 2021\n",
    "}\n",
    "\n",
    "# Write the car data into a file as JSON\n",
    "with open(\"car_data.json\", \"w\") as write_file:\n",
    "    json.dump(car, write_file, indent=2)\n",
    "\n",
    "\n",
    "# Read the car data from the file\n",
    "with open(\"car_data.json\", \"r\") as read_file:\n",
    "    car_data = json.load(read_file)\n",
    "\n",
    "print(car_data)  \n",
    "\n"
   ]
  },
  {
   "cell_type": "code",
   "execution_count": 247,
   "metadata": {},
   "outputs": [
    {
     "name": "stdout",
     "output_type": "stream",
     "text": [
      "[\n",
      "  {\n",
      "    \"model\": \"Tesla Model 3\",\n",
      "    \"color\": \"red\",\n",
      "    \"year\": 2021\n",
      "  },\n",
      "  {\n",
      "    \"model\": \"Ford Mustang\",\n",
      "    \"color\": \"black\",\n",
      "    \"year\": \"2001\"\n",
      "  },\n",
      "  {\n",
      "    \"model\": \"Mercedes Benz\",\n",
      "    \"color\": \"white\",\n",
      "    \"year\": \"2001\"\n",
      "  }\n",
      "]\n"
     ]
    }
   ],
   "source": [
    "import json\n",
    "\n",
    "# Define a car data as Python dictionary\n",
    "car = [\n",
    "        {\n",
    "            \"model\": \"Tesla Model 3\",\n",
    "            \"color\": \"red\",\n",
    "            \"year\": 2021\n",
    "        },\n",
    "        {\n",
    "            \"model\": \"Ford Mustang\",\n",
    "            \"color\": \"black\",\n",
    "            \"year\": \"2001\"\n",
    "        },\n",
    "        {\n",
    "            \"model\": \"Mercedes Benz\",\n",
    "            \"color\": \"white\",\n",
    "            \"year\": \"2001\"\n",
    "        }\n",
    "    ]\n",
    "    \n",
    "\n",
    "# Write the car data into a file as JSON with indentation\n",
    "with open(\"car_data.json\", \"w\") as write_file:\n",
    "    json.dump(car, write_file, indent=2)    \n",
    "\n",
    "\n",
    "# Read the car data from the file\n",
    "with open(\"car_data.json\", \"r\") as read_file:\n",
    "    car_data = json.load(read_file) \n",
    " \n",
    "\n",
    "# Pretty print the JSON object\n",
    "pretty_output = json.dumps(car_data, indent=2)\n",
    "print(pretty_output)   "
   ]
  },
  {
   "cell_type": "code",
   "execution_count": 248,
   "metadata": {},
   "outputs": [
    {
     "name": "stdout",
     "output_type": "stream",
     "text": [
      "{\n",
      "  \"name\": \"John\",\n",
      "  \"age\": 30,\n",
      "  \"city\": \"New York\"\n",
      "}\n",
      "{'name': 'John', 'age': 30, 'city': 'New York'}\n"
     ]
    }
   ],
   "source": [
    "import json\n",
    "\n",
    "data = {\n",
    "    \"name\": \"John\",\n",
    "    \"age\": 30,\n",
    "    \"city\": \"New York\"\n",
    "}\n",
    "\n",
    "json_string = json.dumps(data, indent=2)\n",
    "print(json_string)\n",
    "    \n",
    "# Deserailaize string to json\n",
    "\n",
    "json_string = '{\"name\": \"John\", \"age\": 30, \"city\": \"New York\"}'\n",
    "data = json.loads(json_string)\n",
    "print(data)"
   ]
  },
  {
   "cell_type": "markdown",
   "metadata": {},
   "source": [
    "<h3><strong style=\"color:green;\">JSON Module Handling Knowledge Check</strong></h3>"
   ]
  },
  {
   "cell_type": "markdown",
   "metadata": {},
   "source": [
    "<h4>Question 1:</h4>\n",
    "\n",
    "Write a Python program to create a simple Person object with attributes name and age. Serialize this object to a JSON format and write it to a file named person.json. Then, read the file and deserialize the JSON back to a Python object. Include error handling to manage scenarios where the file may not exist or may have invalid JSON content."
   ]
  },
  {
   "cell_type": "code",
   "execution_count": 249,
   "metadata": {},
   "outputs": [
    {
     "name": "stdout",
     "output_type": "stream",
     "text": [
      "Name: John Doe, Age: 30\n"
     ]
    }
   ],
   "source": [
    "import json\n",
    "\n",
    "class Person:\n",
    "    def __init__(self, name, age):\n",
    "        self.name = name\n",
    "        self.age = age  \n",
    "\n",
    "# Creating a Person object\n",
    "person = Person(\"John Doe\", 30)\n",
    "\n",
    "# Serializing the Person object to JSON and writing it to a file\n",
    "try:\n",
    "    with open(\"person.json\", \"w\") as write_file:\n",
    "        json.dump({\"name\": person.name, \"age\": person.age}, write_file)\n",
    "except Exception as e:\n",
    "    print(f\"An error occurred while writing to the file: {e}\")\n",
    "\n",
    "# Reading the file and deserializing the JSON back to a Person object\n",
    "try:\n",
    "    with open(\"person.json\", \"r\") as read_file:\n",
    "        data = json.load(read_file)\n",
    "        deserialized_person = Person(data[\"name\"], data[\"age\"])\n",
    "        print(f\"Name: {deserialized_person.name}, Age: {deserialized_person.age}\")\n",
    "except FileNotFoundError:\n",
    "    print(\"The file person.json does not exist.\")\n",
    "except json.JSONDecodeError:\n",
    "    print(\"An error occurred while decoding the JSON content.\")\n",
    "except Exception as e:\n",
    "    print(f\"An error occurred: {e}\")"
   ]
  },
  {
   "cell_type": "code",
   "execution_count": 251,
   "metadata": {},
   "outputs": [
    {
     "name": "stdout",
     "output_type": "stream",
     "text": [
      "John Doe has been serialized to person.json\n",
      "Name: John Doe, Age: 30\n"
     ]
    }
   ],
   "source": [
    "import json\n",
    "\n",
    "class Person:\n",
    "    def __init__(self, name, age):\n",
    "        self.name = name\n",
    "        self.age = age\n",
    "    \n",
    "    def to_json(self, filename):\n",
    "        try:\n",
    "            with open(filename, 'w') as f:\n",
    "                json.dump({\"name\": self.name, \"age\": self.age}, f)\n",
    "            print(f\"{self.name} has been serialized to {filename}\")\n",
    "        except Exception as e:\n",
    "            print(f\"An error occurred while writing to the file: {e}\")\n",
    "    \n",
    "    @classmethod\n",
    "    def from_json(cls, filename):\n",
    "        try:\n",
    "            with open(filename, 'r') as f:\n",
    "                data = json.load(f)\n",
    "                return cls(data['name'], data['age'])\n",
    "        except FileNotFoundError:\n",
    "            print(f\"The file {filename} does not exist.\")\n",
    "        except json.JSONDecodeError:\n",
    "            print(\"An error occurred while decoding the JSON content.\")\n",
    "        except Exception as e:\n",
    "            print(f\"An error occurred: {e}\")\n",
    "\n",
    "# Creating a Person object\n",
    "person = Person(\"John Doe\", 30)\n",
    "\n",
    "# Serializing the Person object to JSON\n",
    "person.to_json(\"person.json\")\n",
    "\n",
    "# Deserializing the JSON back to a Person object\n",
    "deserialized_person = Person.from_json(\"person.json\")\n",
    "if deserialized_person:\n",
    "    print(f\"Name: {deserialized_person.name}, Age: {deserialized_person.age}\")\n"
   ]
  },
  {
   "cell_type": "markdown",
   "metadata": {},
   "source": [
    "### Follow up\n",
    "\n",
    "How can you use oops concepts here to make code more modular ?"
   ]
  },
  {
   "cell_type": "markdown",
   "metadata": {},
   "source": [
    "<h1>Leetcode Question 706. Design HashMap</h1>\n",
    "\n",
    "<h3>Design a HashMap without using any built-in hash table libraries.</h3>\n",
    "\n",
    "<p>Implement the <strong>MyHashMap</strong> class:</p>\n",
    "<ul>\n",
    "  <li><strong>MyHashMap()</strong> initializes the object with an empty map.</li>\n",
    "  <li><strong>void put(int key, int value)</strong> inserts a (key, value) pair into the HashMap. If the key already exists in the map, update the corresponding value.</li>\n",
    "  <li><strong>int get(int key)</strong> returns the value to which the specified key is mapped, or -1 if this map contains no mapping for the key.</li>\n",
    "  <li><strong>void remove(key)</strong> removes the key and its corresponding value if the map contains the mapping for the key.</li>\n",
    "</ul>\n",
    "\n",
    "<h4>Example 1:</h4>\n",
    "<pre>\n",
    "Input\n",
    "[\"MyHashMap\", \"put\", \"put\", \"get\", \"get\", \"put\", \"get\", \"remove\", \"get\"]\n",
    "[[], [1, 1], [2, 2], [1], [3], [2, 1], [2], [2], [2]]\n",
    "Output\n",
    "[null, null, null, 1, -1, null, 1, null, -1]\n",
    "</pre>\n",
    "\n",
    "<p><strong>Explanation</strong></p>\n",
    "<p>MyHashMap myHashMap = new MyHashMap();<br>\n",
    "myHashMap.put(1, 1); // The map is now [[1,1]]<br>\n",
    "myHashMap.put(2, 2); // The map is now [[1,1], [2,2]]<br>\n",
    "myHashMap.get(1);    // return 1, The map is now [[1,1], [2,2]]<br>\n",
    "myHashMap.get(3);    // return -1 (i.e., not found), The map is now [[1,1], [2,2]]<br>\n",
    "myHashMap.put(2, 1); // The map is now [[1,1], [2,1]] (i.e., update the existing value)<br>\n",
    "myHashMap.get(2);    // return 1, The map is now [[1,1], [2,1]]<br>\n",
    "myHashMap.remove(2); // remove the mapping for 2, The map is now [[1,1]]<br>\n",
    "myHashMap.get(2);    // return -1 (i.e., not found), The map is now [[1,1]]</p>\n",
    "\n",
    "<h4>Constraints:</h4>\n",
    "<ul>\n",
    "  <li><strong>0 &lt;= key, value &lt;= 10<sup>6</sup></strong></li>\n",
    "  <li><strong>At most 10<sup>4</sup> calls will be made to put, get, and remove.</strong></li>\n",
    "</ul>\n",
    "\n"
   ]
  },
  {
   "cell_type": "code",
   "execution_count": 259,
   "metadata": {},
   "outputs": [],
   "source": [
    "class Bucket:\n",
    "    def __init__(self):\n",
    "        self.bucket = []\n",
    "\n",
    "    def get(self, key):\n",
    "        for (k, v) in self.bucket:\n",
    "            if k == key:\n",
    "                return v\n",
    "        return -1\n",
    "\n",
    "    def update(self, key, value):\n",
    "        found = False\n",
    "        for i, kv in enumerate(self.bucket):\n",
    "            if key == kv[0]:\n",
    "                self.bucket[i] = (key, value)\n",
    "                found = True\n",
    "                break\n",
    "\n",
    "        if not found:\n",
    "            self.bucket.append((key, value))\n",
    "\n",
    "    def remove(self, key):\n",
    "        for i, kv in enumerate(self.bucket):  \n",
    "            if key == kv[0]:\n",
    "                del self.bucket[i]             \n",
    "\n",
    "\n",
    "class MyHashMap:\n",
    "\n",
    "    def __init__(self):\n",
    "        self.key_space = 2069\n",
    "        self.hash_table = [Bucket() for i in range(self.key_space)] # This is an example Composition\n",
    "        \n",
    "\n",
    "    def put(self, key: int, value: int) -> None:\n",
    "        hash_key = key % self.key_space\n",
    "        self.hash_table[hash_key].update(key, value)\n",
    "        \n",
    "\n",
    "    def get(self, key: int) -> int:\n",
    "        hash_key = key % self.key_space\n",
    "        return self.hash_table[hash_key].get(key)\n",
    "        \n",
    "\n",
    "    def remove(self, key: int) -> None:\n",
    "        hash_key = key % self.key_space\n",
    "        self.hash_table[hash_key].remove(key)"
   ]
  }
 ],
 "metadata": {
  "kernelspec": {
   "display_name": "Python 3",
   "language": "python",
   "name": "python3"
  },
  "language_info": {
   "codemirror_mode": {
    "name": "ipython",
    "version": 3
   },
   "file_extension": ".py",
   "mimetype": "text/x-python",
   "name": "python",
   "nbconvert_exporter": "python",
   "pygments_lexer": "ipython3",
   "version": "3.11.2"
  },
  "orig_nbformat": 4
 },
 "nbformat": 4,
 "nbformat_minor": 2
}
