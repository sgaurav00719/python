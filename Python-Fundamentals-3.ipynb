{
 "cells": [
  {
   "cell_type": "markdown",
   "metadata": {},
   "source": [
    "<h1>About Me</h1>\n",
    "<ul>\n",
    "<li>Name: Gaurav Sharma</li>\n",
    "<li>Software Developer at AWS GameTech</li>\n",
    "<li>Ex-Software Developer at Nasdaq. Low Latency Trading Platform.</li>\n",
    "<li>Education - Bachelor's and Master's in Computer Science.</li>\n",
    "</ul>\n",
    "\n",
    "\n",
    "<h1>Agenda</h1>\n",
    "<ul>\n",
    "<li>Scope of Variables - 30 mins</li>\n",
    "<li>Custom Sort Functions - 30 mins</li>\n",
    "<li>Python OOP Concepts - 45 mins</li>\n",
    "<li>Exception Handling - 30 mins</li>\n",
    "<li>File Handling - 30 mins</li>\n",
    "<li>JSON module - 45 mins</li>\n",
    "</ul>\n"
   ]
  },
  {
   "cell_type": "markdown",
   "metadata": {},
   "source": [
    "<h1>Scope of Variables</h1>\n",
    "\n",
    "<ul>\n",
    "  <li>The scope of a variable refers to the regions within the program where a variable can be recognized and used.</li>\n",
    "  <li><span style=\"color: blue;\"><strong>Importance:</strong></span> Proper scoping prevents unintended access or modification of variables.</li>\n",
    "</ul>\n"
   ]
  },
  {
   "cell_type": "markdown",
   "metadata": {},
   "source": [
    "<h3>Variable Scope Types</h3>\n",
    "\n",
    "<p>There are four major types of variable scope:</p>\n",
    "<ul>\n",
    "  <li>Local</li>\n",
    "  <li>Enclosing</li>\n",
    "  <li>Global</li>\n",
    "  <li>Built-in</li>\n",
    "</ul>\n",
    "\n",
    "<p>Python follows the <span style=\"color: blue;\"><strong>LEGB</strong></span> rule for name resolution: Local, Enclosing, Global, and Built-in.</p>\n"
   ]
  },
  {
   "cell_type": "markdown",
   "metadata": {},
   "source": [
    "<h3>Local Scope</h3>\n",
    "<p>\n",
    "A variable declared inside a function is known as a local variable. These variables can only be used within the function that defines them, and they are destroyed as soon as the function finishes executing.\n",
    "</p>\n"
   ]
  },
  {
   "cell_type": "markdown",
   "metadata": {},
   "source": [
    "<h3>Global Scope</h3>\n",
    "<p>\n",
    "A variable declared outside of the function or in global space is called a global variable. These variables can be accessed by any function in the program, and they last for the duration of the program.\n",
    "</p>\n"
   ]
  },
  {
   "cell_type": "markdown",
   "metadata": {},
   "source": [
    "<h3>Enclosing Scope</h3>\n",
    "<p>\n",
    "It is relevant in situations where you have nested functions, meaning one function is defined inside another function. In this context, the outer function forms an enclosing scope for the inner function.\n",
    "</p>\n"
   ]
  },
  {
   "cell_type": "markdown",
   "metadata": {},
   "source": [
    "<h3>Built-in Scope</h3>\n",
    "<p>\n",
    "This is the widest scope that exists! All the special reserved keywords fall under this scope. We can call the keywords anywhere within our program without having to define them before use.\n",
    "</p>\n"
   ]
  },
  {
   "cell_type": "markdown",
   "metadata": {},
   "source": [
    "<h3>Global Keyword</h3>\n",
    "<p>\n",
    "This keyword is used before a variable inside a function to denote that the variable is a global variable. Without this keyword, the function would treat it as a local variable.\n",
    "</p>\n"
   ]
  },
  {
   "cell_type": "markdown",
   "metadata": {},
   "source": [
    "<h3>Nonlocal Keyword</h3>\n",
    "\n",
    "<p>This keyword works similar to the global, but it is used in nested functions. It means the variable should not belong to the inner function's scope but the outer function's scope.</p>"
   ]
  },
  {
   "cell_type": "markdown",
   "metadata": {},
   "source": [
    "<h3><strong style=\"color:green;\">Variable Scope Knowledge Check</strong></h3>\n",
    "\n",
    "</p>Question 1: Guess the output</p>\n",
    "\n",
    "```Python\n",
    "x = 5\n",
    "\n",
    "def foo():\n",
    "    x = x + 1\n",
    "    print(x)\n",
    "\n",
    "foo()\n",
    "print(x)\n",
    "```\n",
    "\n",
    "<ul>\n",
    "<li>A: 6 6</li>\n",
    "<li>B: 6 5</li>\n",
    "<li>C: 5 5</li>\n",
    "<li>D: UnboundLocalError</li>\n",
    "</ul>\n",
    "\n",
    "<p>Question 2: Guess the output</p>\n",
    "\n",
    "```Python\n",
    "def outer():\n",
    "    x = 10\n",
    "    def inner():\n",
    "        nonlocal x\n",
    "        x = 20\n",
    "        def innermost():\n",
    "            global x\n",
    "            x = 30\n",
    "        innermost()\n",
    "        return x\n",
    "    return inner()\n",
    "\n",
    "x = 0\n",
    "print(outer(), x)\n",
    "```\n",
    "\n",
    "<ul>\n",
    "<li>A: 20 0</li>\n",
    "<li>B: 20 30</li>\n",
    "<li>C: 30 0</li>\n",
    "<li>D: 30 30</li>\n",
    "</ul>"
   ]
  },
  {
   "cell_type": "markdown",
   "metadata": {},
   "source": [
    "<h1>Custom Sort Functions</h1>\n",
    "\n",
    "<h3>Introduction</h3>\n",
    "<p>In Python, sorting is a common operation that can be performed using built-in functions like sorted() and the sort() method for lists.</p> \n",
    "<p>While these functions work well for basic sorting, Python also allows you to customize the sorting behavior using custom functions.</p>\n",
    "\n",
    "<h3>The basics</h3>\n",
    "<p><strong style=\"color:blue;\">Sorted():</strong> Returns a new sorted list from the specified iterable.</p>\n",
    "<p><strong style=\"color:blue;\">Sort():</strong> Modifies the list in place and returns None.</p>\n",
    "\n",
    "<h3>Differences between `sorted()` and `sort()`:</h3>\n",
    "\n",
    "| Feature                  | `sorted()`                          | `sort()`                          |\n",
    "|--------------------------|-------------------------------------|-----------------------------------|\n",
    "| Applicability            | Works on any iterable               | Works only on lists               |\n",
    "| Return Type              | Returns a new sorted list           | Modifies the list in-place        |\n",
    "| Original Iterable        | Leaves the original iterable intact | Changes the original list         |\n",
    "| Versatility              | More versatile                      | Less versatile                    |\n",
    "\n"
   ]
  },
  {
   "cell_type": "markdown",
   "metadata": {},
   "source": [
    "<h3>Sorting in reverse</h3>\n",
    "<p>Both sorted() and sort() have an optional reverse parameter.</p>\n",
    "<p><strong style=\"color:blue;\">Reverse:</strong> If set to True, the list will be sorted in descending order.</p>"
   ]
  },
  {
   "cell_type": "markdown",
   "metadata": {},
   "source": [
    "<h3>Custom Sorting Using key Parameter</h3>\n",
    "\n",
    "<p>Both sorted() and sort() have an optional <strong style=\"color:blue;\">Key</strong> parameter that you can use to specify a function to be called on each list element before making comparisons.</p>\n"
   ]
  },
  {
   "cell_type": "markdown",
   "metadata": {},
   "source": [
    "<h3><strong style=\"color:green;\">Custom Sort Functions Knowledge Check</strong></h3>\n",
    "\n",
    "<h4>Question 1:</h4>\n",
    "\n",
    "<p>Sort a list of dictionaries by grades.</p>\n",
    "\n",
    "<h4>Input:</h4>\n",
    "\n",
    "```json\n",
    "[\n",
    "  {'name': 'John', 'grade': 90},\n",
    "  {'name': 'Jane', 'grade': 85},\n",
    "  {'name': 'Doe', 'grade': 90}\n",
    "]\n",
    "```\n",
    "\n",
    "<h4>Follow up:</h4>\n",
    "<p>Sorting the above dictionary by grades and then by name.</p>\n",
    "\n",
    "<h4>Question 2:</h4>\n",
    "<p>You are given a list of tuples, where each tuple contains a name (string) and an age (integer). Write a Python program that sorts this list in the following order:</p>\n",
    "<ol>\n",
    "  <li>By age in ascending order.</li>\n",
    "  <li>If two or more people have the same age, sort them by their name in alphabetical order.</li>\n",
    "</ol>\n",
    "<p>Use a custom sorting function to achieve this.</p>\n",
    "<h4>Input:</h4>\n",
    "\n",
    "```json\n",
    "people = [\n",
    "    (\"Alice\", 30),\n",
    "    (\"Bob\", 25),\n",
    "    (\"Charlie\", 25),\n",
    "    (\"David\", 35)\n",
    "]\n",
    "```\n",
    "\n",
    "<h4>Output:</h4>\n",
    "\n",
    "```json\n",
    "[\n",
    "    (\"Bob\", 25),\n",
    "    (\"Charlie\", 25),\n",
    "    (\"Alice\", 30),\n",
    "    (\"David\", 35)\n",
    "]\n",
    "```\n",
    "\n",
    "<h4>Question 3:</h4>\n",
    "<p>Sort Characters By Frequency (LeetCode 451)<p>\n",
    "Certainly! One classic LeetCode question that can be solved using custom sorting is \"Sort Characters By Frequency\" (LeetCode 451).\n",
    "\n",
    "#### Problem Statement:\n",
    "\n",
    "Given a string, sort it in decreasing order based on the frequency of characters.\n",
    "\n",
    "#### Example:\n",
    "\n",
    "Input: \"tree\"\n",
    "\n",
    "Output: \"eert\"\n",
    "\n",
    "Explanation: 'e' appears twice while 'r' and 't' both appear once. So 'e' must appear before both 'r' and 't'. Therefore \"eetr\" is also a valid answer.\n",
    "\n",
    "\n",
    "<h4>Question 4:</h4>\n",
    "\n",
    "Can you sort a tuple using the sort() method? Why or why not?\n"
   ]
  },
  {
   "cell_type": "markdown",
   "metadata": {},
   "source": [
    "<h1>Object-Oriented Programming (OOP)</h1>\n",
    "<h3>What is Object-Oriented Programming?</h3>\n",
    "<ul>\n",
    "  <li><span style=\"color: blue;\"><strong>Object-Oriented Programming (OOP)</strong></span> is a style of programming that is based on the concept of \"objects\". </li>\n",
    "  <li><span style=\"color: blue;\"><strong>Objects(OOP)</strong></span> are instances of \"classes\", which are like blueprints for creating objects. </li>\n",
    "</ul>\n",
    "\n",
    "  <div style=\"margin-top: 20px;\">\n",
    "    <img src=\"house-oop.png\" style=\"width: 50%;\">\n",
    "  </div>"
   ]
  },
  {
   "cell_type": "markdown",
   "metadata": {},
   "source": [
    "<h3>Why Do We Use Object-Oriented Programming?</h3>\n",
    "\n",
    "1. **Organization and Structure**:\n",
    "   - **Classes and objects** allow for logical grouping of related data and functions, making code more organized, understandable, and manageable.\n",
    "   - It promotes a clear structure, making it easier to map real-world entities to software components.\n",
    "\n",
    "2. **Encapsulation**:\n",
    "   - **Encapsulation** helps in hiding the internal state of an object and requiring all interaction to be performed through well-defined interfaces (methods).\n",
    "   - It prevents external code from being able to directly modify the object’s state, avoiding unintended interference and misuse of data.\n",
    "\n",
    "3. **Reusability**:\n",
    "   - **Inheritance** allows a class to use methods and properties of another class, promoting reusability.\n",
    "   - Reusing existing components and functionality can significantly reduce development time and errors.\n",
    "\n",
    "4. **Extensibility**:\n",
    "   - OOP makes software more modular, allowing functionality to be easily extended or modified.\n",
    "   - New features can be added with minimal changes to existing code, reducing the risk of introducing errors.\n",
    "\n",
    "5. **Abstraction**:\n",
    "   - **Abstraction** allows programmers to hide the complex implementation details and show only the necessary features of an object.\n",
    "   - It simplifies programming by exposing only high-level actions the object can do, making it easier to develop and maintain the code.\n",
    "\n",
    "6. **Polymorphism**:\n",
    "   - **Polymorphism** allows one interface to be used for different data types, enabling the same operation to behave differently on different classes.\n",
    "   - It provides flexibility and the ability to extend functionality in a system designed with interface compatibility in mind."
   ]
  },
  {
   "cell_type": "markdown",
   "metadata": {},
   "source": [
    "<h3>Understanding Classes and Objects</h3>\n",
    "<ul>\n",
    "  <li>A <span style=\"color: purple;\"><strong>Class</strong></span> is a data type that acts as a template definition for a particular kind of object.</li>\n",
    "  <li>An <span style=\"color: blue;\"><strong>Object</strong></span> is an instance of a class, meaning it's a working example made from that blueprint.</li>\n",
    "  <li>To create an object, you use a class as a starting point. This is called <span style=\"color: green;\"><strong>Instantiation</strong></span>.</li>\n",
    "\n",
    "  <div style=\"margin-top: 20px;\">\n",
    "    <img src=\"class-objects-1.png\" style=\"width: 10%;\">\n",
    "  </div>\n",
    "</ul>\n"
   ]
  },
  {
   "cell_type": "markdown",
   "metadata": {},
   "source": [
    "<h3>Create a class</h3>"
   ]
  },
  {
   "cell_type": "markdown",
   "metadata": {},
   "source": [
    "<h3>Create an Object from a class</h3>"
   ]
  },
  {
   "cell_type": "markdown",
   "metadata": {},
   "source": [
    "<h3>Add attributes (variables) to a class</h3>"
   ]
  },
  {
   "cell_type": "markdown",
   "metadata": {},
   "source": [
    "<h3>Constructors in Python</h3>\n",
    "\n",
    "<ul>\n",
    "  <li>A constructor is a special method used to initialize objects.</li>\n",
    "  <li>In Python, the primary constructor is the <code>__init__</code> method.</li>\n",
    "  <li>It sets initial values for object attributes and performs any setup required. Called automatically when a new object is created from a class.</li>\n",
    "</ul>\n"
   ]
  },
  {
   "cell_type": "markdown",
   "metadata": {},
   "source": [
    "<h3>What is the <code>self</code> Keyword in Python OOP?</h3>\n",
    "<ul>\n",
    "  <li>The <code>self</code> keyword represents the instance of the class and is used to access class attributes and methods.</li>\n",
    "  <li>Inside class methods, <code>self</code> allows you to call other methods and access attributes of the same object.</li>\n",
    "  <li>Python automatically passes <code>self</code> as the first argument when you call a method on an object, but you don't include it in the actual method call.</li>\n",
    "</ul>\n"
   ]
  },
  {
   "cell_type": "markdown",
   "metadata": {},
   "source": [
    "### Incorrect use of self"
   ]
  },
  {
   "cell_type": "markdown",
   "metadata": {},
   "source": [
    "### Printing objects"
   ]
  },
  {
   "cell_type": "markdown",
   "metadata": {},
   "source": [
    "<h3>Four pillars or principles of OOP's</h3>\n",
    "\n",
    "<ul>\n",
    "    <li> <strong style=\"color:blue;\">Encapsulation</strong></li>\n",
    "    <li> <strong style=\"color:blue;\">Inheritance</strong></li>\n",
    "    <li> <strong style=\"color:blue;\">Polymorphism</strong></li>\n",
    "    <li> <strong style=\"color:blue;\">Abstraction</strong></li>\n",
    "</ul>\n",
    "\n",
    " <div style=\"margin-top: 20px;\">\n",
    "    <img src=\"oop-4-pillars.png\" style=\"width: 40%;\">\n",
    "  </div>\n",
    "\n"
   ]
  },
  {
   "cell_type": "markdown",
   "metadata": {},
   "source": [
    "<h3>Encapsulation</h3>\n",
    "\n",
    "<p><strong style=\"color:blue;\">Encapsulation:</strong> Encapsulation is the process of preventing clients from accessing certain properties, which can only be accessed through specific methods. This principle allows one to declare private and public methods and attributes.</p>\n",
    "\n",
    "<p><strong style=\"color:blue;\">Benefit:</strong></p>\n",
    "<ul>\n",
    "  <li>Improved data integrity, control over access to data.</li>\n",
    "</ul>\n",
    "\n",
    "<p><strong style=\"color:blue;\">Note:</strong> In Python, there is no strict access control, but a convention to indicate a variable is private by prefixing it with two underscores.</p>\n",
    "\n",
    "\n",
    "<h3>Access Specifiers</h3>\n",
    "\n",
    "<ul>\n",
    "<li><strong style=\"color:blue;\">Public:</strong> Attributes and methods that are accessible from any part of the code. In Python, all members are public by default.</li>\n",
    "  <li><strong style=\"color:blue;\">Protected:</strong> Attributes and methods that are accessible within the class and its subclasses. In Python, they are often indicated by a single leading underscore (e.g., <code>_protected_variable</code>).</li>\n",
    "  <li><strong style=\"color:blue;\">Private:</strong> Attributes and methods that should not be accessed outside the class. In Python, they are indicated by double leading underscores (e.g., <code>__private_variable</code>).</li>\n",
    "</ul>\n",
    "\n",
    "```Python\n",
    "class Car:\n",
    "  wheels = 4 #public\n",
    "  _color = \"red\" #protected\n",
    "  __engine = \"v8\" #private\n",
    "```"
   ]
  },
  {
   "cell_type": "markdown",
   "metadata": {},
   "source": [
    "<h3>Inheritance</h3>\n",
    "\n",
    "<p><strong style=\"color:blue;\">Inheritance:</strong> A mechanism that allows one class to inherit attributes and methods from another class.</p>\n",
    "\n",
    "<p>The subclass or child class is the class that inherits. The superclass or parent class is the class from which methods and/or attributes are inherited.</p>\n",
    "\n",
    "<p><strong style=\"color:blue;\">Benefits:</strong><p>\n",
    "<ul>\n",
    "  <li>Code reusability, reduced complexity.</li>\n",
    "  <li>Through inheritance, you can reuse code that's already been written, saving time and effort.</li>\n",
    "</ul>"
   ]
  },
  {
   "cell_type": "markdown",
   "metadata": {},
   "source": [
    "<h3>Super Keyword</h3>\n",
    "\n",
    "<p>\n",
    "<strong style=\"color:blue;\">Super</strong> is a built-in function in Python that is used to call a method from a parent (base) class. It is commonly used in the context of inheritance, particularly when you want to extend or modify the behavior of a parent class's method in a child (derived) class.\n",
    "</p>"
   ]
  },
  {
   "cell_type": "markdown",
   "metadata": {},
   "source": [
    "<h3>Multiple Inheritance</h3>\n",
    "\n",
    "<p><strong style=\"color:blue;\">Multiple Inheritance:</strong> Multiple inheritance is a feature that allows a class to inherit attributes and methods from more than one parent class.</p>\n",
    "\n",
    "<p><strong style=\"color:blue;\">Benefits:</strong></p>\n",
    "<ul>\n",
    "  <li>Creates versatile classes with functionalities from multiple parents.</li>\n",
    "  <li>Encourages code reusability and organized structure.</li>\n",
    "  <li>Enhances design patterns through unique class combinations.</li>\n",
    "</ul>"
   ]
  },
  {
   "cell_type": "markdown",
   "metadata": {},
   "source": [
    "<h3>Polymorphism</h3>\n",
    "\n",
    "The term 'polymorphism' comes from the Greek language and means 'something that takes on multiple forms.' \n",
    "\n",
    "<p><strong style=\"color:blue;\">Polymorphism:</strong> Polymorphism refers to a subclass's ability to adapt a method that already exists in its superclass to meet its needs. To put it another way, a subclass can use a method from its superclass as is or modify it as needed.</p>\n",
    "<p><strong style=\"color:blue;\">Benefits:</strong></p>\n",
    "<ul>\n",
    "  <li>Flexibility in code, easier maintenance.</li>\n",
    "</ul>\n",
    "\n"
   ]
  },
  {
   "cell_type": "markdown",
   "metadata": {},
   "source": [
    "<h3>Abstraction</h3>\n",
    "\n",
    "<p><strong style=\"color:blue;\">Abstraction:</strong>  The process of hiding the implementation details and showing what is only necessary to the outside world.</p>\n",
    "\n",
    "<p><strong style=\"color:blue;\">Benefits:</strong></p>\n",
    "<ul>\n",
    "  <li>Provides a clear and simple interface.</li>\n",
    "  <li>Improves code maintainability.</li>\n",
    "  <li>Makes code more understandable and engaging.</li>\n",
    "</ul>\n"
   ]
  },
  {
   "cell_type": "markdown",
   "metadata": {},
   "source": [
    "<h3>Method Overloading</h3>\n",
    "<p>Method overloading is a feature that allows a class to have more than one method with the same name but different numbers or types of parameters. In some programming languages, method overloading is achieved by defining multiple methods with the same name. However, Python does not support traditional method overloading in this way.</p>\n",
    "<p>In Python, method overloading can be achieved by using default arguments or variable-length argument lists. This allows a method to be called with different numbers of arguments, providing similar functionality to traditional method overloading.</p>"
   ]
  },
  {
   "cell_type": "markdown",
   "metadata": {},
   "source": [
    "<h3>Class and Instance Attributes</h3>\n",
    "<p><strong style=\"color:blue;\">Class Attributes:</strong> These attributes are shared by all instances of the class. They belong to the class itself, not to any particular instance of the class.</p>\n",
    "<p><strong style=\"color:blue;\">Instance Attributes</strong>: These attributes are specific to each instance of the class. They are not shared by instances.</p>"
   ]
  },
  {
   "cell_type": "markdown",
   "metadata": {},
   "source": [
    "<h3>Class Methods and Instance Methods</h3>\n",
    "\n",
    "<p><strong style=\"color:blue;\">Class Methods:</strong> These methods are bound to the class and not the instance of the class. They can be called on the class itself, rather than instances of the class. Class methods take a first parameter <code>cls</code>, which stands for the class.</p>\n",
    "\n",
    "<p><strong style=\"color:green;\">Instance Methods:</strong> These methods are bound to instances of the class. They are used to perform operations that typically manipulate instance attributes. The first parameter is usually <code>self</code>, which refers to the instance of the class.</p>"
   ]
  },
  {
   "cell_type": "markdown",
   "metadata": {},
   "source": [
    "<h3><strong style=\"color:green;\">OOPs Knowledge Check</strong></h3>\n",
    "\n",
    "\n",
    "<p>Question 1: Consider the following code snippet:</p>\n",
    "\n",
    "```Python\n",
    "class A:\n",
    "    def show(self):\n",
    "        return \"Class A\"\n",
    "\n",
    "class B(A):\n",
    "    def show(self):\n",
    "        return \"Class B\"\n",
    "\n",
    "class C(B):\n",
    "    def show(self):\n",
    "        return super().show()\n",
    "\n",
    "c = C()\n",
    "print(c.show())\n",
    "```\n",
    "\n",
    "<p>What will be the output of the code above?</p>\n",
    "<ul>\n",
    "  <li>A) Class A</li>\n",
    "  <li>B) Class B</li>\n",
    "  <li>C) Class C</li>\n",
    "  <li>D) An Error</li>\n",
    "</ul>\n",
    "\n",
    "<p>Question 2: Consider the following code snippet:</p>\n",
    "\n",
    "```Python\n",
    "class Vehicle:\n",
    "    def start(self):\n",
    "        return \"Vehicle started\"\n",
    "\n",
    "class Car(Vehicle):\n",
    "    def start(self):\n",
    "        return \"Car started\"\n",
    "\n",
    "class ElectricCar(Car):\n",
    "    def start(self):\n",
    "        return super(Car, self).start()\n",
    "\n",
    "electric_car = ElectricCar()\n",
    "print(electric_car.start())\n",
    "```\n",
    "\n",
    "<p>What will be the output of the code above?</p>\n",
    "<ul>\n",
    "  <li>A) Vehicle started</li>\n",
    "  <li>B) Car started</li>\n",
    "  <li>C) ElectricCar started</li>\n",
    "  <li>D) An Error</li>\n",
    "</ul>\n"
   ]
  },
  {
   "cell_type": "markdown",
   "metadata": {},
   "source": [
    "<h1>Exception Handling</h1>\n",
    "\n",
    "<p><strong style=\"color:blue;\">Definition:</strong> Exception handling is a mechanism for gracefully responding to unexpected errors during program execution. In Python, this is achieved using the `try`, `except`, `finally`, and `raise` statements.\n",
    "</p>\n",
    "<p><strong style=\"color:blue;\">Importance:</strong> Proper handling prevents the program from crashing and allows more graceful error management.</p>\n",
    "\n",
    "<p><strong style=\"color:blue;\">Common Exceptions in Python:</strong></p> \n",
    "<ul>\n",
    "<li>SyntaxError</li>\n",
    "<li>TypeError</li>\n",
    "<li>ValueError</li>\n",
    "<li>IndexError</li>\n",
    "<li>KeyError</li>\n",
    "<li>FileNotFoundError</li>\n",
    "</ul>"
   ]
  },
  {
   "cell_type": "markdown",
   "metadata": {},
   "source": [
    "### Basic Syntax\n",
    "\n",
    "The basic syntax for exception handling in Python is as follows:\n",
    "\n",
    "```python\n",
    "try:\n",
    "    # Code that may raise an exception\n",
    "except:\n",
    "    # Code to handle the exception\n"
   ]
  },
  {
   "cell_type": "markdown",
   "metadata": {},
   "source": [
    "<h3>Finally Keyword</h3>\n",
    "\n",
    "<p><strong style=\"color:blue;\">finally:</strong> A block of code that will be executed regardless of whether an exception was raised or not.</p>\n",
    "<p><strong style=\"color:blue;\">Usage:</strong></p>\n",
    "<ul>\n",
    "  <li>Cleaning up resources (e.g., closing files, releasing connections).</li>\n",
    "  <li>Ensuring that specific actions are carried out, even if an error occurs.</li>\n",
    "</ul>\n",
    "<p><strong style=\"color:blue;\">Example:</strong></p>\n",
    "\n",
    "```Python\n",
    "try:\n",
    "    # code that may raise an exception\n",
    "except:\n",
    "    # code to handle the exception\n",
    "finally:\n",
    "    # code that will always be executed\n",
    "```\n",
    "\n",
    "\n"
   ]
  },
  {
   "cell_type": "markdown",
   "metadata": {},
   "source": [
    "### Handling Multiple Exceptions\n",
    "\n",
    "You can catch multiple exceptions by specifying them in a tuple.\n",
    "\n",
    "```python\n",
    "try:\n",
    "    # Code that may raise an exception\n",
    "except (SomeException, AnotherException):\n",
    "    # Code to handle the exception\n"
   ]
  },
  {
   "cell_type": "markdown",
   "metadata": {},
   "source": [
    "### Multiple Except Blocks\n",
    "\n",
    "Multiple except blocks allow us to handle each exception differently."
   ]
  },
  {
   "cell_type": "markdown",
   "metadata": {},
   "source": [
    "### The `else` Clause\n",
    "\n",
    "The `else` clause runs when the `try` block does not raise any exceptions.\n",
    "\n",
    "```python\n",
    "try:\n",
    "    # Code that may raise an exception\n",
    "except SomeException:\n",
    "    # Code to handle the exception\n",
    "else:\n",
    "    # Code to run if no exception occurs\n",
    "finally:\n",
    "    # code that will always be executed\n",
    "```    \n",
    "\n"
   ]
  },
  {
   "cell_type": "markdown",
   "metadata": {},
   "source": [
    "<h3>Raising Exception</h3>\n",
    "\n",
    "<p><strong style=\"color:blue;\">Raising Exceptions:</strong> Intentionally triggering an error using the <code>raise</code> keyword.</p>\n",
    "<p><strong style=\"color:blue;\">Usage:</strong></p>\n",
    "<ul>\n",
    "  <li>Enforcing constraints or invariants in the code.</li>\n",
    "  <li>Signaling the presence of an error that requires special handling.</li>\n",
    "</ul>\n"
   ]
  },
  {
   "cell_type": "markdown",
   "metadata": {},
   "source": [
    "<h3>Custom Exception</h3>\n",
    "\n",
    "<p><strong style=\"color:blue;\">Definition:</strong> You can define custom exceptions by creating new exception classes. These are typically derived from the built-in Exception class or one of its subclasses.</p>\n",
    "<p><strong style=\"color:blue;\">Importance:</strong> Custom exceptions allow for more specific error handling, making it easier to understand the nature of the error and to respond appropriately.</p>\n",
    "<p><strong style=\"color:blue;\">Example:</strong></p>\n",
    "\n",
    "```Python\n",
    "# Define a new exception class\n",
    "class MyCustomException(Exception):\n",
    "    pass\n",
    "```\n",
    "\n",
    "<p>This custom exception can then be raised and caught like any other exception, allowing for more precise error messages and handling.</p>\n"
   ]
  },
  {
   "cell_type": "markdown",
   "metadata": {},
   "source": [
    "<h3><strong style=\"color:green;\">Exception Handling Knowledge Check</strong></h3>\n",
    "\n",
    "<h4>Question 1:</h4>\n",
    "\n",
    "You are developing a simple banking system. You need to ensure that if a user tries to withdraw an amount greater than their available balance, a custom exception should be raised to handle this specific error scenario.\n",
    "\n",
    "<h4>Question 2:</h4>\n",
    "\n",
    "Is it mandatory to have an except block after a try block?"
   ]
  },
  {
   "cell_type": "markdown",
   "metadata": {},
   "source": [
    "<h1>File Handling</h1>\n",
    "<p><strong style=\"color:blue;\">Definition:</strong> The process of reading from or writing to a file.</p>\n",
    "<p><strong style=\"color:blue;\">Importance:</strong> Persisting data, reading data from external sources, and generating reports. File handling enables the storage and retrieval of data, allowing for more complex and data-driven applications.</p>\n",
    "\n",
    "<h3>6.1 Different Modes to Open a File in Python</h3>\n",
    "<ul>\n",
    "  <li><strong style=\"color:blue;\">r:</strong> Open a file for reading.</li>\n",
    "  <li><strong style=\"color:blue;\">w:</strong> Open a file for writing. Creates a new file if it does not exist or truncates the file if it exists.</li>\n",
    "  <li><strong style=\"color:blue;\">x:</strong> Open a file for exclusive creation. If the file already exists, the operation fails.</li>\n",
    "  <li><strong style=\"color:blue;\">a:</strong> Open a file for appending at the end of the file without truncating it. Creates a new file if it does not exist.</li>\n",
    "  <li><strong style=\"color:blue;\">b:</strong> Binary mode. This mode allows you to read or write binary data. It can be used in combination with 'r', 'w', 'a', or 'x' (e.g., 'rb', 'wb', 'ab', 'xb').</li>\n",
    "  <li><strong style=\"color:blue;\">t:</strong> Text mode. This mode allows you to read or write text data. It can be used in combination with 'r', 'w', 'a', or 'x'. This is the default mode if neither 'b' nor 't' is specified.</li>\n",
    "  <li><strong style=\"color:blue;\">+:</strong> Update mode. This mode allows you to both read and write data. It can be used in combination with 'r', 'w', or 'a' (e.g., 'r+', 'w+', 'a+').</li>\n",
    "</ul>\n",
    "\n"
   ]
  },
  {
   "cell_type": "markdown",
   "metadata": {},
   "source": [
    "<h3>Reading from a File</h3>\n",
    "    \n",
    "<p><strong style=\"color:blue;\">read():</strong> Reads the entire content of the file</p>\n",
    "<p><strong style=\"color:blue;\">readline():</strong> Reads a single line from the file</p>\n",
    "<p><strong style=\"color:blue;\">readlines():</strong> Reads all lines and returns a list of lines</p>\n"
   ]
  },
  {
   "cell_type": "markdown",
   "metadata": {},
   "source": [
    "<h3>Writing to a File</h3>\n",
    "\n",
    "<p><strong style=\"color:blue;\">write():</strong> Writes a string to the file</p>\n",
    "<p><strong style=\"color:blue;\">writelines():</strong> Writes a list of strings to the file</p>"
   ]
  },
  {
   "cell_type": "markdown",
   "metadata": {},
   "source": [
    "<h1>JSON Module in Python</h1>\n",
    "<p><strong style=\"color:blue;\">JavaScript Object Notation (JSON):</strong> JSON is a lightweight data-interchange format.</p>\n",
    "<p>Benefits:</p>\n",
    "<ul>\n",
    "  <li>Human-readable</li>\n",
    "  <li>Language-independent</li>\n",
    "  <li>Easy to parse and generate</li>\n",
    "</ul>\n"
   ]
  },
  {
   "cell_type": "markdown",
   "metadata": {},
   "source": [
    "<h3>JSON Module Functions:</h3>\n",
    "<ul>\n",
    "  <li><strong style=\"color:blue;\">json.dump:</strong> Serialize python object to JSON formatted file.</li>\n",
    "  <li><strong style=\"color:blue;\">json.dumps:</strong> Serialize python object to JSON formatted string.</li>\n",
    "  <li><strong style=\"color:blue;\">json.load():</strong> Deserialize JSON data from a file into a Python object.</li>\n",
    "  <li><strong style=\"color:blue;\">json.loads():</strong> Deserialize JSON data from a string into a Python object.</li>\n",
    "</ul>\n"
   ]
  },
  {
   "cell_type": "markdown",
   "metadata": {},
   "source": [
    "<h3><strong style=\"color:green;\">JSON Module Handling Knowledge Check</strong></h3>"
   ]
  },
  {
   "cell_type": "markdown",
   "metadata": {},
   "source": [
    "<h4>Question 1:</h4>\n",
    "\n",
    "Write a Python program to create a simple Person object with attributes name and age. Serialize this object to a JSON format and write it to a file named person.json. Then, read the file and deserialize the JSON back to a Python object. Include error handling to manage scenarios where the file may not exist or may have invalid JSON content."
   ]
  },
  {
   "cell_type": "markdown",
   "metadata": {},
   "source": [
    "### Follow up\n",
    "\n",
    "How can you use oops concepts here to make code more modular ?"
   ]
  },
  {
   "cell_type": "markdown",
   "metadata": {},
   "source": [
    "<h1>Leetcode Question 706. Design HashMap</h1>\n",
    "\n",
    "<h3>Design a HashMap without using any built-in hash table libraries.</h3>\n",
    "\n",
    "<p>Implement the <strong>MyHashMap</strong> class:</p>\n",
    "<ul>\n",
    "  <li><strong>MyHashMap()</strong> initializes the object with an empty map.</li>\n",
    "  <li><strong>void put(int key, int value)</strong> inserts a (key, value) pair into the HashMap. If the key already exists in the map, update the corresponding value.</li>\n",
    "  <li><strong>int get(int key)</strong> returns the value to which the specified key is mapped, or -1 if this map contains no mapping for the key.</li>\n",
    "  <li><strong>void remove(key)</strong> removes the key and its corresponding value if the map contains the mapping for the key.</li>\n",
    "</ul>\n",
    "\n",
    "<h4>Example 1:</h4>\n",
    "<pre>\n",
    "Input\n",
    "[\"MyHashMap\", \"put\", \"put\", \"get\", \"get\", \"put\", \"get\", \"remove\", \"get\"]\n",
    "[[], [1, 1], [2, 2], [1], [3], [2, 1], [2], [2], [2]]\n",
    "Output\n",
    "[null, null, null, 1, -1, null, 1, null, -1]\n",
    "</pre>\n",
    "\n",
    "<p><strong>Explanation</strong></p>\n",
    "<p>MyHashMap myHashMap = new MyHashMap();<br>\n",
    "myHashMap.put(1, 1); // The map is now [[1,1]]<br>\n",
    "myHashMap.put(2, 2); // The map is now [[1,1], [2,2]]<br>\n",
    "myHashMap.get(1);    // return 1, The map is now [[1,1], [2,2]]<br>\n",
    "myHashMap.get(3);    // return -1 (i.e., not found), The map is now [[1,1], [2,2]]<br>\n",
    "myHashMap.put(2, 1); // The map is now [[1,1], [2,1]] (i.e., update the existing value)<br>\n",
    "myHashMap.get(2);    // return 1, The map is now [[1,1], [2,1]]<br>\n",
    "myHashMap.remove(2); // remove the mapping for 2, The map is now [[1,1]]<br>\n",
    "myHashMap.get(2);    // return -1 (i.e., not found), The map is now [[1,1]]</p>\n",
    "\n",
    "<h4>Constraints:</h4>\n",
    "<ul>\n",
    "  <li><strong>0 &lt;= key, value &lt;= 10<sup>6</sup></strong></li>\n",
    "  <li><strong>At most 10<sup>4</sup> calls will be made to put, get, and remove.</strong></li>\n",
    "</ul>\n",
    "\n"
   ]
  }
 ],
 "metadata": {
  "kernelspec": {
   "display_name": "Python 3",
   "language": "python",
   "name": "python3"
  },
  "language_info": {
   "codemirror_mode": {
    "name": "ipython",
    "version": 3
   },
   "file_extension": ".py",
   "mimetype": "text/x-python",
   "name": "python",
   "nbconvert_exporter": "python",
   "pygments_lexer": "ipython3",
   "version": "3.11.2"
  },
  "orig_nbformat": 4
 },
 "nbformat": 4,
 "nbformat_minor": 2
}
