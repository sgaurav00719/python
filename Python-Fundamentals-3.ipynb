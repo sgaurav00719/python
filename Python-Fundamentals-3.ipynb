{
 "cells": [
  {
   "cell_type": "markdown",
   "metadata": {},
   "source": [
    "<h1>0.0 About Me</h1>\n",
    "\n",
    "<ul>\n",
    "<li>Name: Gaurav Sharma</li>\n",
    "<li>Coding/DSA Instructor at IK</li>\n",
    "<li>Software Developer at AWS GameTech</li>\n",
    "<li>Ex-Software Developer at Nasdaq. Low Latency Trading Platform.</li>\n",
    "<li>Education - Bachelor's and Master's in Computer Science.</li>\n",
    "</ul>\n",
    "\n",
    "\n",
    "<h1>0.1 Agenda</h1>\n",
    "\n",
    "<ul>\n",
    "<li>Call by Value and Call by Reference - 30 mins</li>\n",
    "<li>Scope of Variables - 30 mins</li>\n",
    "<li>Python OOP Concepts - 45 mins</li>\n",
    "<li>Custom Sort Functions - 30 mins</li>\n",
    "<li>Exception Handling - 30 mins</li>\n",
    "<li>File Handling - 30 mins</li>\n",
    "<li>JSON module - 45 mins</li>\n",
    "<li>LeetCode Question - Design HashMap - 15 mins (Extra) </li>\n",
    "</ul>"
   ]
  },
  {
   "cell_type": "markdown",
   "metadata": {},
   "source": [
    "<h1> 1. Call by Value and Call by Reference </h1>"
   ]
  },
  {
   "cell_type": "markdown",
   "metadata": {},
   "source": [
    "<h3> 1.1 Mutable and Immutable Objects </h3>\n",
    "\n",
    "<p>We should know about Mutable and Immutable Objects to better understand Call by Value and Call by Reference.</p>\n",
    "<ul>\n",
    "    <li><span style=\"color: blue;\"><strong>Mutable Objects:</strong></span> Objects whose value can be changed after they are created.</li>\n",
    "    <li><span style=\"color: blue;\"><strong>Immutable Objects:</strong></span> Objects whose value is unchangeable once they are created.</li>\n",
    "</ul>\n",
    "\n",
    "<h4 style=\"color: blue;\">Mutable Objects:</h4>\n",
    "<ul>\n",
    "    <li>List</li>\n",
    "    <li>Dictionaries</li>\n",
    "    <li>Sets</li>\n",
    "</ul>\n",
    "<h4 style=\"color: blue;\">Immutable Objects:</h4>\n",
    "<ul>\n",
    "    <li>Integers</li>\n",
    "    <li>Floats</li>\n",
    "    <li>Strings</li>\n",
    "    <li>Tuples</li>\n",
    "    <li>Boolean</li>\n",
    "</ul>\n",
    "\n"
   ]
  },
  {
   "cell_type": "markdown",
   "metadata": {},
   "source": [
    "<h3>1.3 What is Call by Value and Call by Reference in Python ?</h3>\n",
    "\n",
    "<h4 style=\"color:blue;\">Call by Value</h4>\n",
    "<p>A copy of the value is passed, and changes inside the function don't affect the original variable (e.g., integers, floats, strings, tuples in Python).</p>\n",
    "\n",
    "<h4 style=\"color:blue;\">Call by Reference</h4>\n",
    "<p>A reference to the original variable is passed, and changes inside the function affect the original variable (e.g., lists, dictionaries, sets in Python)</p>\n",
    "\n",
    "<div style=\"margin-top: 20px;\">\n",
    "    <img src=\"pass-by-value-and-reference.svg\" style=\"width: 75%;\">\n",
    "</div>\n"
   ]
  },
  {
   "cell_type": "markdown",
   "metadata": {},
   "source": [
    "<h3>1.4 Python's Parameter Passing Model</h3>\n",
    "<ul>\n",
    "    <li>Python’s parameter passing model is often characterized as “pass-by-object-reference” or “pass-by-assignment”.</li>\n",
    "    <li>In Python, when a variable is passed to a function, a new local variable is created that references the same object. No new copy is made. </li>\n",
    "    <li>If you modify the local variable itself (e.g. assign it a new value), this doesn't affect the original variable, behaving like <span style=\"color: blue;\"><strong>pass-by-value.</strong></span></li>\n",
    "    <li>If the object being referred to by the variable is mutable, and you modify the object (e.g. append an item to a list), these changes will reflect when accessing the object from the original variable, behaving like <span style=\"color: blue;\"><strong>pass-by-reference.</strong></span></li>\n",
    "</ul>"
   ]
  },
  {
   "cell_type": "markdown",
   "metadata": {},
   "source": [
    "<h3>1.5 Shallow Copy</h3>\n",
    "\n",
    "<ul>\n",
    "  <li>A shallow copy creates a new object which stores the reference of the original elements.</li>\n",
    "  <li>Changes in the original object will affect the copied object, and vice versa, because they both reference the same underlying objects.</li>\n",
    "  <li>Shallow copy is faster to execute.</li>\n",
    "  <li>In Python, a shallow copy can be made with the <code>copy()</code> function from the copy module.</li>\n",
    "</ul>\n"
   ]
  },
  {
   "cell_type": "markdown",
   "metadata": {},
   "source": [
    "<h3>1.6 Deep Copy</h3>\n",
    "\n",
    "<ul>\n",
    "  <li>A deep copy creates a new object and recursively adds the copies of nested objects present in the original elements.</li>\n",
    "  <li>Unlike shallow copy, it doesn't copy the reference of the objects.</li>\n",
    "  <li>Changes in the original object will NOT affect the copied object, and vice versa, because they are completely independent copies.</li>\n",
    "  <li>Deep copy is slower to execute because it makes copies of all nested objects.</li>\n",
    "  <li>In Python, a deep copy can be made with the <code>deepcopy()</code> function from the copy module.</li>\n",
    "</ul>\n",
    "\n"
   ]
  },
  {
   "cell_type": "markdown",
   "metadata": {},
   "source": [
    "<h3>1.7 Pass by Value and Reference Knowledge Check</h3>\n",
    "\n",
    "<p>Question 1: Guess the output.</p>\n",
    "\n",
    "```Python\n",
    "def function(x):\n",
    "    x = 10\n",
    "\n",
    "x_val = 5\n",
    "function(x_val)\n",
    "print(\"Value of x_val:\", x_val)\n",
    "```\n",
    "<ul>\n",
    "<li>A: 10</li>\n",
    "<li>B: 5</li>\n",
    "<li>C: Error</li>\n",
    "<li>D: None</li>\n",
    "</ul>\n",
    "\n",
    "<p>Question 2: Guess the output.</p>\n",
    "\n",
    "```Python\n",
    "def function(lst1, lst2):\n",
    "    lst1[0] = 99\n",
    "    lst2 = [42, 42, 42]\n",
    "    lst1 = [0, 0, 0]\n",
    "\n",
    "lst1 = [1, 2, 3]\n",
    "lst2 = [4, 5, 6]\n",
    "\n",
    "function(lst1, lst2)\n",
    "print(\"Value of lst1:\", lst1)\n",
    "print(\"Value of lst2:\", lst2)\n",
    "```\n",
    "\n",
    "<ul>\n",
    "<li>A: Value of lst1: [99, 2, 3]; Value of lst2: [4, 5, 6]</li>\n",
    "<li>B: Value of lst1: [0, 0, 0]; Value of lst2: [4, 5, 6]</li>\n",
    "<li>C: Value of lst1: [99, 2, 3]; Value of lst2: [42, 42, 42]</li>\n",
    "<li>D: Value of lst1: [0, 0, 0]; Value of lst2: [42, 42, 42]</li>\n",
    "</ul>"
   ]
  },
  {
   "cell_type": "markdown",
   "metadata": {},
   "source": [
    "<h1>2 Scope of Variables</h1>\n",
    "\n",
    "<ul>\n",
    "  <li>The scope of a variable refers to the regions within the program where a variable can be recognized and used.</li>\n",
    "  <li><span style=\"color: blue;\"><strong>Importance:</strong></span> Proper scoping prevents unintended access or modification of variables.</li>\n",
    "</ul>\n",
    "\n",
    "<div style=\"margin-top: 20px;\">\n",
    "    <img src=\"variable-scope.png\" style=\"width: 75%;\">\n",
    "</div>\n"
   ]
  },
  {
   "cell_type": "markdown",
   "metadata": {},
   "source": [
    "<h3>2.1 Variable Scope Types</h3>\n",
    "\n",
    "<p>There are four major types of variable scope:</p>\n",
    "<ul>\n",
    "  <li>Local</li>\n",
    "  <li>Enclosing</li>\n",
    "  <li>Global</li>\n",
    "  <li>Built-in</li>\n",
    "</ul>\n",
    "\n",
    "<p>Python follows the <span style=\"color: blue;\"><strong>LEGB</strong></span> rule for name resolution: Local, Enclosing, Global, and Built-in.</p>\n"
   ]
  },
  {
   "cell_type": "markdown",
   "metadata": {},
   "source": [
    "<h3>2.2 Built-in Scope</h3>\n",
    "<p>\n",
    "This is the widest scope that exists! All the special reserved keywords fall under this scope. We can call the keywords anywhere within our program without having to define them before use.\n",
    "</p>\n"
   ]
  },
  {
   "cell_type": "markdown",
   "metadata": {},
   "source": [
    "<h3>2.3 Global Scope</h3>\n",
    "<p>\n",
    "A variable declared outside of the function or in global space is called a global variable. These variables can be accessed by any function in the program, and they last for the duration of the program.\n",
    "</p>\n"
   ]
  },
  {
   "cell_type": "markdown",
   "metadata": {},
   "source": [
    "<h3>2.4 Local Scope</h3>\n",
    "<p>\n",
    "A variable declared inside a function is known as a local variable. These variables can only be used within the function that defines them, and they are destroyed as soon as the function finishes executing.\n",
    "</p>\n"
   ]
  },
  {
   "cell_type": "markdown",
   "metadata": {},
   "source": [
    "<h3>2.5 Enclosing Scope</h3>\n",
    "<p>\n",
    "It is relevant in situations where you have nested functions, meaning one function is defined inside another function. In this context, the outer function forms an enclosing scope for the inner function.\n",
    "</p>\n"
   ]
  },
  {
   "cell_type": "markdown",
   "metadata": {},
   "source": [
    "<h3>2.6 Global Keyword</h3>\n",
    "<p>\n",
    "This keyword is used before a variable inside a function to denote that the variable is a global variable. Without this keyword, the function would treat it as a local variable.\n",
    "</p>\n"
   ]
  },
  {
   "cell_type": "markdown",
   "metadata": {},
   "source": [
    "<h3>2.7 Nonlocal Keyword</h3>\n",
    "\n",
    "<p>This keyword works similar to the global, but it is used in nested functions. It means the variable should not belong to the inner function's scope but the outer function's scope.</p>"
   ]
  },
  {
   "cell_type": "markdown",
   "metadata": {},
   "source": [
    "<h3>Variable Scope Knowledge Check</h3>\n",
    "\n",
    "</p>Question 1: Guess the output</p>\n",
    "\n",
    "```Python\n",
    "x = 5\n",
    "\n",
    "def foo():\n",
    "    x = x + 1\n",
    "    print(x)\n",
    "\n",
    "foo()\n",
    "print(x)\n",
    "```\n",
    "\n",
    "<ul>\n",
    "<li>A: 6 6</li>\n",
    "<li>B: 6 5</li>\n",
    "<li>C: 5 5</li>\n",
    "<li>D: UnboundLocalError</li>\n",
    "</ul>\n",
    "\n",
    "<p>Question 2: Guess the output</p>\n",
    "\n",
    "```Python\n",
    "def outer():\n",
    "    x = 10\n",
    "    def inner():\n",
    "        nonlocal x\n",
    "        x = 20\n",
    "        def innermost():\n",
    "            global x\n",
    "            x = 30\n",
    "        innermost()\n",
    "        return x\n",
    "    return inner()\n",
    "\n",
    "x = 0\n",
    "print(outer(), x)\n",
    "```\n",
    "\n",
    "<ul>\n",
    "<li>A: 20 0</li>\n",
    "<li>B: 20 30</li>\n",
    "<li>C: 30 0</li>\n",
    "<li>D: 30 30</li>\n",
    "</ul>"
   ]
  },
  {
   "cell_type": "markdown",
   "metadata": {},
   "source": [
    "<h1>3 Object Oriented Programming</h1>\n",
    "\n",
    "<ul>\n",
    "  <li>A programming paradigm that represents and manipulates data using <span style=\"color: blue;\"><strong>Objects</strong></span>.</li>\n",
    "  <li>In simple terms, OOP is a way of organizing code by grouping related data (attributes) and functions (methods) together inside classes.</li>\n",
    "  <li>Focus on creating reusable and modular code.</li>\n",
    "</ul>\n"
   ]
  },
  {
   "cell_type": "markdown",
   "metadata": {},
   "source": [
    "<h3>3.1 OOP Terminology</h3>\n",
    "<ul>\n",
    "  <li><strong style=\"color:blue;\">Class:</strong> A blueprint that defines the attributes and methods for the objects created from it.</li>\n",
    "  <li><strong style=\"color:blue;\">Attribute:</strong> A named piece of data (i.e., a variable) associated with a class or object.</li>\n",
    "  <li><strong style=\"color:blue;\">Object/Instance:</strong> A single concrete realization of a class, encapsulating specific state and behavior.</li>\n",
    "  <li><strong style=\"color:blue;\">Method:</strong> A function that is part of a class and operates on the object's attributes.</li>\n",
    "</ul>\n"
   ]
  },
  {
   "cell_type": "markdown",
   "metadata": {},
   "source": [
    "<h3>3.2 Constructors in Python</h3>\n",
    "\n",
    "<ul>\n",
    "  <li><strong style=\"color:blue;\">Introduction:</strong> A constructor is a special method used to initialize objects.</li>\n",
    "  <li><strong style=\"color:blue;\">Primary Constructor:</strong> In Python, the primary constructor is the <code>__init__</code> method.</li>\n",
    "  <li><strong style=\"color:blue;\">Usage:</strong> It sets initial values for object attributes and performs any setup required. Called automatically when a new object is created from a class.</li>\n",
    "</ul>\n",
    "\n",
    "<p>Example Code:</p>\n",
    "\n",
    "```Python\n",
    "class Car:\n",
    "    def __init__(self, brand, model):\n",
    "        self.brand = brand\n",
    "        self.model = model\n",
    "```\n",
    "\n",
    "<p>This code defines a Car class with a constructor that takes brand and model as parameters.</p>\n"
   ]
  },
  {
   "cell_type": "markdown",
   "metadata": {},
   "source": [
    "<h3>3.3 Instances of a Class</h3>\n",
    "\n",
    "<ul>\n",
    "  <li><strong style=\"color:blue;\">Instances:</strong> Individual objects created from a class.</li>\n",
    "  <li>Each instance contains its own set of attributes defined by the class.</li>\n",
    "  <li>Instances represent specific real-world objects with unique details.</li>\n",
    "  <li>For example, if you have a class <code>Car</code>, then each car object (like a Toyota Camry, Honda Civic, etc.) created from that class is an instance of the <code>Car</code> class.</li>\n",
    "</ul>\n",
    "\n",
    "\n",
    "<div style=\"margin-top: 20px;\">\n",
    "    <img src=\"oop-car.webp\" style=\"width: 75%;\">\n",
    "</div>\n",
    "\n",
    "<h3>3.3.1 Class and Instance Attributes</h3>\n",
    "<p><strong style=\"color:blue;\">Class Attributes:</strong> These attributes are shared by all instances of the class. They belong to the class itself, not to any particular instance of the class.</p>\n",
    "<p><strong style=\"color:blue;\">Instance Attributes</strong>: These attributes are specific to each instance of the class. They are not shared by instances.</p>\n",
    "\n",
    "```Python\n",
    "class Car:\n",
    "    number_of_wheels = 4  # class attribute\n",
    "\n",
    "    def __init__(self, color):\n",
    "        self.color = color  # instance attribute\n",
    "\n",
    "# Create instances of Car\n",
    "car1 = Car('red')\n",
    "car2 = Car('blue')\n",
    "```"
   ]
  },
  {
   "cell_type": "markdown",
   "metadata": {},
   "source": [
    "<h3>3.4 Four pillars or principles of OOP's</h3>\n",
    "\n",
    "<ul>\n",
    "    <li> <strong style=\"color:blue;\">Abstraction</strong></li>\n",
    "    <li> <strong style=\"color:blue;\">Encapsulation</strong></li>\n",
    "    <li> <strong style=\"color:blue;\">Inheritance</strong></li>\n",
    "    <li> <strong style=\"color:blue;\">Polymorphism</strong></li>\n",
    "</ul>"
   ]
  },
  {
   "cell_type": "markdown",
   "metadata": {},
   "source": [
    "<h3>3.5 Abstraction</h3>\n",
    "\n",
    "<p><strong style=\"color:blue;\">Abstraction:</strong>  The process of hiding the implementation details and showing what is only necessary to the outside world.</p>\n",
    "\n",
    "<p><strong style=\"color:blue;\">Benefits:</strong></p>\n",
    "<ul>\n",
    "  <li>Provides a clear and simple interface.</li>\n",
    "  <li>Improves code maintainability.</li>\n",
    "  <li>Makes code more understandable and engaging.</li>\n",
    "</ul>\n"
   ]
  },
  {
   "cell_type": "markdown",
   "metadata": {},
   "source": [
    "<h3>3.6 Encapsulation</h3>\n",
    "\n",
    "<p><strong style=\"color:blue;\">Encapsulation:</strong> The process of binding methods and attributes. This principle allows one to declare private and public methods and attributes.</p>\n",
    "\n",
    "<p><strong style=\"color:blue;\">Benefit:</strong></p>\n",
    "<ul>\n",
    "  <li>Improved data integrity, control over access to data.</li>\n",
    "</ul>\n",
    "\n",
    "<p><strong style=\"color:blue;\">Note:</strong> In Python, there is no strict access control, but a convention to indicate a variable is private by prefixing it with an underscore.</p>\n",
    "\n",
    "\n",
    "<h3>3.6.1 Access Specifiers</h3>\n",
    "\n",
    "<ul>\n",
    "<li><strong style=\"color:blue;\">Public:</strong> Attributes and methods that are accessible from any part of the code. In Python, all members are public by default.</li>\n",
    "  <li><strong style=\"color:blue;\">Protected:</strong> Attributes and methods that are accessible within the class and its subclasses. In Python, they are often indicated by a single leading underscore (e.g., <code>_protected_variable</code>).</li>\n",
    "  <li><strong style=\"color:blue;\">Private:</strong> Attributes and methods that should not be accessed outside the class. In Python, they are indicated by double leading underscores (e.g., <code>__private_variable</code>).</li>\n",
    "</ul>\n",
    "\n",
    "```Python\n",
    "class Car:\n",
    "  wheels = 4 #public\n",
    "  _color = \"red\" #protected\n",
    "  __engine = \"v8\" #private\n",
    "```"
   ]
  },
  {
   "cell_type": "markdown",
   "metadata": {},
   "source": [
    "<h3>3.7 Inheritance</h3>\n",
    "\n",
    "<p><strong style=\"color:blue;\">Inheritance:</strong> A mechanism that allows one class to inherit attributes and methods from another class.</p>\n",
    "\n",
    "<p><strong style=\"color:blue;\">Example:</strong> A BMW car inherits the property of a CAR while a CAR inherits the property of a VEHICLE.</p>\n",
    "\n",
    "<p><strong style=\"color:blue;\">Benefits:</strong><p>\n",
    "<ul>\n",
    "  <li>Code reusability, reduced complexity.</li>\n",
    "  <li>Through inheritance, you can reuse code that's already been written, saving time and effort.</li>\n",
    "</ul>"
   ]
  },
  {
   "cell_type": "markdown",
   "metadata": {},
   "source": [
    "<h3>3.7.1 Super Keyword</h3>\n",
    "\n",
    "<p>\n",
    "<strong style=\"color:blue;\">Super</strong> is a built-in function in Python that is used to call a method from a parent (base) class. It is commonly used in the context of inheritance, particularly when you want to extend or modify the behavior of a parent class's method in a child (derived) class.\n",
    "</p>"
   ]
  },
  {
   "cell_type": "markdown",
   "metadata": {},
   "source": [
    "<h3>3.7.2 Multiple Inheritance</h3>\n",
    "\n",
    "<p><strong style=\"color:blue;\">Multiple Inheritance:</strong> Multiple inheritance is a feature that allows a class to inherit attributes and methods from more than one parent class.</p>\n",
    "\n",
    "<p><strong style=\"color:blue;\">Benefits:</strong></p>\n",
    "<ul>\n",
    "  <li>Creates versatile classes with functionalities from multiple parents.</li>\n",
    "  <li>Encourages code reusability and organized structure.</li>\n",
    "  <li>Enhances design patterns through unique class combinations.</li>\n",
    "</ul>\n",
    "\n",
    "<p><strong style=\"color:blue;\">Note:</strong> While multiple inheritance can be powerful, it can also lead to complications, especially when two parent classes have attributes or methods with the same name. This ambiguity can lead to the \"diamond problem\" where it becomes unclear which parent class method should be accessed. In Python, the method resolution order (MRO) algorithm is used to manage these conflicts.</p>"
   ]
  },
  {
   "cell_type": "markdown",
   "metadata": {},
   "source": [
    "<h3>3.8 Polymorphism</h3>\n",
    "\n",
    "<p><strong style=\"color:blue;\">Polymorphism:</strong> Polymorphism allows different classes to have methods with the same name but different implementations. This is achieved by method overriding.</p>\n",
    "<p><strong style=\"color:blue;\">Benefits:</strong></p>\n",
    "<ul>\n",
    "  <li>Flexibility in code, easier maintenance.</li>\n",
    "</ul>\n",
    "\n"
   ]
  },
  {
   "cell_type": "markdown",
   "metadata": {},
   "source": [
    "<h3>3.8.1 Method Overriding</h3>\n",
    "<p>Method overriding is a feature in object-oriented programming that allows a subclass to provide a specific implementation of a method that is already defined in its superclass. The overridden method in the subclass should have the same name, signature, and parameters as the method in the superclass.</p>"
   ]
  },
  {
   "cell_type": "markdown",
   "metadata": {},
   "source": [
    "<h3>3.8.2 Method Overloading</h3>\n",
    "<p>Method overloading is a feature that allows a class to have more than one method with the same name but different numbers or types of parameters. In some programming languages, method overloading is achieved by defining multiple methods with the same name. However, Python does not support traditional method overloading in this way.</p>\n",
    "<p>In Python, method overloading can be achieved by using default arguments or variable-length argument lists. This allows a method to be called with different numbers of arguments, providing similar functionality to traditional method overloading.</p>"
   ]
  },
  {
   "cell_type": "markdown",
   "metadata": {},
   "source": [
    "<h3>3.9 Benefits of OOP</h3>\n",
    "\n",
    "<ul>\n",
    "  <li><strong style=\"color:blue;\">Modularity:</strong> OOP allows you to break down complex problems into simpler ones by creating objects.</li>\n",
    "  <li><strong style=\"color:blue;\">Code Reusability:</strong> Through inheritance, you can reuse code that's already been written, saving time and effort.</li>\n",
    "  <li><strong style=\"color:blue;\">Encapsulation:</strong> Data can be restricted to use within the class it's defined in, promoting data integrity and security.</li>\n",
    "  <li><strong style=\"color:blue;\">Polymorphism:</strong> One function or an operator can perform many different tasks, providing flexibility.</li>\n",
    "  <li><strong style=\"color:blue;\">Code Maintainability:</strong> It's easier to maintain and modify existing code as new objects can be created with small differences to existing ones.</li>\n",
    "  <li><strong style=\"color:blue;\">Abstraction:</strong> You can make the program simpler and easier to understand by hiding certain implementation details within classes.</li>\n",
    "  <li><strong style=\"color:blue;\">Organization:</strong> OOP makes it easier to keep code organized with a clear structure.</li>\n",
    "  <li><strong style=\"color:blue;\">Efficiency:</strong> Relationships and interactions between objects can be defined in a way that closely matches how they would interact in the real world, leading to more efficient code.</li>\n",
    "  <li><strong style=\"color:blue;\">Collaboration:</strong> Because the code is more structured and modular in an OOP approach, it's easier for multiple people to work on a project at the same time.</li>\n",
    "</ul>\n"
   ]
  },
  {
   "cell_type": "markdown",
   "metadata": {},
   "source": [
    "<h3>3.10 OOPs Knowledge Check</h3>\n",
    "\n",
    "<p>Question 1: Consider the following code snippet:</p>\n",
    "\n",
    "```Python\n",
    "class A:\n",
    "    def show(self):\n",
    "        return \"Class A\"\n",
    "\n",
    "class B(A):\n",
    "    def show(self):\n",
    "        return \"Class B\"\n",
    "\n",
    "class C(B):\n",
    "    def show(self):\n",
    "        return super().show()\n",
    "\n",
    "c = C()\n",
    "print(c.show())\n",
    "```\n",
    "\n",
    "<p>What will be the output of the code above?</p>\n",
    "<ul>\n",
    "  <li>A) Class A</li>\n",
    "  <li>B) Class B</li>\n",
    "  <li>C) Class C</li>\n",
    "  <li>D) An Error</li>\n",
    "</ul>\n",
    "\n",
    "<p>Question 2: Consider the following code snippet:</p>\n",
    "\n",
    "```Python\n",
    "class Vehicle:\n",
    "    def start(self):\n",
    "        return \"Vehicle started\"\n",
    "\n",
    "class Car(Vehicle):\n",
    "    def start(self):\n",
    "        return \"Car started\"\n",
    "\n",
    "class ElectricCar(Car):\n",
    "    def start(self):\n",
    "        return super(Car, self).start()\n",
    "\n",
    "electric_car = ElectricCar()\n",
    "print(electric_car.start())\n",
    "```\n",
    "\n",
    "<p>What will be the output of the code above?</p>\n",
    "<ul>\n",
    "  <li>A) Vehicle started</li>\n",
    "  <li>B) Car started</li>\n",
    "  <li>C) ElectricCar started</li>\n",
    "  <li>D) An Error</li>\n",
    "</ul>\n",
    "\n",
    "<p>Question 3 :</p>\n",
    "<p>Write a class named <code>Calculator</code> with a method <code>add</code> that can handle different types of input:</p>\n",
    "<ul>\n",
    "  <li>If integers are passed, it should return the sum of the integers.</li>\n",
    "  <li>If strings are passed, it should return the concatenation of the strings.</li>\n",
    "</ul>\n",
    "<p>You can assume that all the arguments will be of the same type, either all integers or all strings.</p>\n",
    "<p>Test your class by creating an instance and calling the <code>add</code> method with both integers and strings.</p>\n",
    "<h4>Example Output:</h4>\n",
    "<pre>\n",
    "10\n",
    "Hello World!\n",
    "</pre>\n"
   ]
  },
  {
   "cell_type": "markdown",
   "metadata": {},
   "source": [
    "<h1>4 Custom Sort Functions</h1>\n",
    "\n",
    "<p><strong style=\"color:blue;\">Sorted():</strong> Returns a new sorted list from the specified iterable.</p>\n",
    "<p><strong style=\"color:blue;\">Sort():</strong> Modifies the list in place and returns None.</p>\n",
    "\n",
    "<h3>4.1 Commenly Used Parameters</h3>\n",
    "\n",
    "<p><strong style=\"color:blue;\">Key:</strong> Function to be called on each list element to determine sorting order.</p>\n",
    "<p><strong style=\"color:blue;\">Reverse:</strong> If set to True, the list will be sorted in descending order.</p>\n"
   ]
  },
  {
   "cell_type": "markdown",
   "metadata": {},
   "source": [
    "<h3>4.2 Custom Sort Functions Knowledge Check</h3>\n",
    "\n",
    "<h4>Question 1:</h4>\n",
    "<p>You are given a list of tuples, where each tuple contains a name (string) and an age (integer). Write a Python program that sorts this list in the following order:</p>\n",
    "<ol>\n",
    "  <li>By age in ascending order.</li>\n",
    "  <li>If two or more people have the same age, sort them by their name in alphabetical order.</li>\n",
    "</ol>\n",
    "<p>Use a custom sorting function to achieve this.</p>\n",
    "<h4>Example Input:</h4>\n",
    "<pre>\n",
    "people = [\n",
    "    (\"Alice\", 30),\n",
    "    (\"Bob\", 25),\n",
    "    (\"Charlie\", 25),\n",
    "    (\"David\", 35)\n",
    "]\n",
    "</pre>\n",
    "<h4>Example Output:</h4>\n",
    "<pre>\n",
    "[\n",
    "    (\"Bob\", 25),\n",
    "    (\"Charlie\", 25),\n",
    "    (\"Alice\", 30),\n",
    "    (\"David\", 35)\n",
    "]\n",
    "</pre>\n",
    "\n"
   ]
  },
  {
   "cell_type": "markdown",
   "metadata": {},
   "source": [
    "<h1>5 Exception Handling</h1>\n",
    "\n",
    "<p><strong style=\"color:blue;\">Definition:</strong> Events that occur during the execution of a program when an error is encountered.</p>\n",
    "<p><strong style=\"color:blue;\">Importance:</strong> Proper handling prevents the program from crashing and allows more graceful error management.</p>\n",
    "\n",
    "<p><strong style=\"color:blue;\">Common Exceptions in Python:</strong></p> \n",
    "<ul>\n",
    "<li>SyntaxError</li>\n",
    "<li>TypeError</li>\n",
    "<li>ValueError</li>\n",
    "<li>IndexError</li>\n",
    "<li>KeyError</li>\n",
    "<li>FileNotFoundError</li>\n",
    "</ul>"
   ]
  },
  {
   "cell_type": "markdown",
   "metadata": {},
   "source": [
    "<h3>5.1 Finally Keyword</h3>\n",
    "\n",
    "<p><strong style=\"color:blue;\">finally:</strong> A block of code that will be executed regardless of whether an exception was raised or not.</p>\n",
    "<p><strong style=\"color:blue;\">Usage:</strong></p>\n",
    "<ul>\n",
    "  <li>Cleaning up resources (e.g., closing files, releasing connections).</li>\n",
    "  <li>Ensuring that specific actions are carried out, even if an error occurs.</li>\n",
    "</ul>\n",
    "<p><strong style=\"color:blue;\">Example:</strong></p>\n",
    "\n",
    "```Python\n",
    "try:\n",
    "    # code that may raise an exception\n",
    "except:\n",
    "    # code to handle the exception\n",
    "finally:\n",
    "    # code that will always be executed\n",
    "```\n",
    "\n",
    "\n"
   ]
  },
  {
   "cell_type": "markdown",
   "metadata": {},
   "source": [
    "<h3>5.2 Raising Exception</h3>\n",
    "\n",
    "<p><strong style=\"color:blue;\">Raising Exceptions:</strong> Intentionally triggering an error using the <code>raise</code> keyword.</p>\n",
    "<p><strong style=\"color:blue;\">Usage:</strong></p>\n",
    "<ul>\n",
    "  <li>Enforcing constraints or invariants in code.</li>\n",
    "  <li>Signaling the presence of an error that requires special handling.</li>\n",
    "</ul>\n"
   ]
  },
  {
   "cell_type": "markdown",
   "metadata": {},
   "source": [
    "<h3>5.3 Exception Handling - try, except, else, finally</h3>\n",
    "<p><strong style=\"color:blue;\">try:</strong> Block of code to be attempted (which may lead to an error).</p>\n",
    "<p><strong style=\"color:blue;\">except:</strong> Block of code that will execute if there is an exception in the try block.</p>\n",
    "<p><strong style=\"color:blue;\">else:</strong> Block of code that will execute if the try block raises no exceptions.</p>\n",
    "<p><strong style=\"color:blue;\">finally:</strong> Block of code that will always execute, regardless of an exception being raised or not.</p>\n"
   ]
  },
  {
   "cell_type": "markdown",
   "metadata": {},
   "source": [
    "<h3>5.4 Custom Exception</h3>\n",
    "\n",
    "<p><strong style=\"color:blue;\">Definition:</strong> You can define custom exceptions by creating new exception classes. These are typically derived from the built-in Exception class or one of its subclasses.</p>\n",
    "<p><strong style=\"color:blue;\">Importance:</strong> Custom exceptions allow for more specific error handling, making it easier to understand the nature of the error and to respond appropriately.</p>\n",
    "<p><strong style=\"color:blue;\">Example:</strong></p>\n",
    "\n",
    "```Python\n",
    "# Define a new exception class\n",
    "class MyCustomException(Exception):\n",
    "    pass\n",
    "```\n",
    "\n",
    "<p>This custom exception can then be raised and caught like any other exception, allowing for more precise error messages and handling.</p>\n"
   ]
  },
  {
   "cell_type": "markdown",
   "metadata": {},
   "source": [
    "<h1>6 File Handling</h1>\n",
    "<p><strong style=\"color:blue;\">Definition:</strong> The process of reading from or writing to a file.</p>\n",
    "<p><strong style=\"color:blue;\">Importance:</strong> Persisting data, reading data from external sources, and generating reports. File handling enables the storage and retrieval of data, allowing for more complex and data-driven applications.</p>\n",
    "\n",
    "<h3>6.1 Different Modes to Open a File in Python</h3>\n",
    "<ul>\n",
    "  <li><strong style=\"color:blue;\">r:</strong> Open a file for reading.</li>\n",
    "  <li><strong style=\"color:blue;\">w:</strong> Open a file for writing. Creates a new file if it does not exist or truncates the file if it exists.</li>\n",
    "  <li><strong style=\"color:blue;\">x:</strong> Open a file for exclusive creation. If the file already exists, the operation fails.</li>\n",
    "  <li><strong style=\"color:blue;\">a:</strong> Open a file for appending at the end of the file without truncating it. Creates a new file if it does not exist.</li>\n",
    "  <li><strong style=\"color:blue;\">b:</strong> Binary mode. This mode allows you to read or write binary data. It can be used in combination with 'r', 'w', 'a', or 'x' (e.g., 'rb', 'wb', 'ab', 'xb').</li>\n",
    "  <li><strong style=\"color:blue;\">t:</strong> Text mode. This mode allows you to read or write text data. It can be used in combination with 'r', 'w', 'a', or 'x'. This is the default mode if neither 'b' nor 't' is specified.</li>\n",
    "  <li><strong style=\"color:blue;\">+:</strong> Update mode. This mode allows you to both read and write data. It can be used in combination with 'r', 'w', or 'a' (e.g., 'r+', 'w+', 'a+').</li>\n",
    "</ul>\n",
    "\n"
   ]
  },
  {
   "cell_type": "markdown",
   "metadata": {},
   "source": [
    "<h3>6.2 Reading from a File</h3>\n",
    "\n",
    "```Python \n",
    "with open('example.txt', 'r') as file:\n",
    "    for line in file.readlines():\n",
    "        print(line.strip() + \" processed\")\n",
    "```        \n",
    "<p><strong style=\"color:blue;\">read():</strong> Reads the entire content of the file</p>\n",
    "<p><strong style=\"color:blue;\">readline():</strong> Reads a single line from the file</p>\n",
    "<p><strong style=\"color:blue;\">readlines():</strong> Reads all lines and returns a list of lines</p>\n"
   ]
  },
  {
   "cell_type": "markdown",
   "metadata": {},
   "source": [
    "<h3>6.3 Writing to a File</h3>\n",
    "\n",
    "```Python\n",
    "lines = [\"First line\\n\", \"Second line\\n\"]\n",
    "with open(\"out.txt\", \"w\") as file:\n",
    "    file.writelines(lines)\n",
    "\n",
    "with open(\"out.txt\", \"a\") as file:\n",
    "    file.write(\"Third line\\n\")\n",
    "```\n",
    "<p><strong style=\"color:blue;\">write():</strong> Writes a string to the file</p>\n",
    "<p><strong style=\"color:blue;\">writelines():</strong> Writes a list of strings to the file</p>"
   ]
  },
  {
   "cell_type": "markdown",
   "metadata": {},
   "source": [
    "<h1>7 JSON Module in Python</h1>\n",
    "<p><strong style=\"color:blue;\">JavaScript Object Notation (JSON):</strong> JSON is a lightweight data-interchange format.</p>\n",
    "<p>Benefits:</p>\n",
    "<ul>\n",
    "  <li>Human-readable</li>\n",
    "  <li>Language-independent</li>\n",
    "  <li>Easy to parse and generate</li>\n",
    "</ul>\n"
   ]
  },
  {
   "cell_type": "markdown",
   "metadata": {},
   "source": [
    "<h3>7.1 JSON Functions:</h3>\n",
    "<ul>\n",
    "  <li><strong style=\"color:blue;\">json.dump:</strong> Serialize python object to JSON formatted file.</li>\n",
    "  <li><strong style=\"color:blue;\">json.dumps:</strong> Serialize python object to JSON formatted string.</li>\n",
    "  <li><strong style=\"color:blue;\">json.load():</strong> Deserialize JSON data from a file into a Python object.</li>\n",
    "  <li><strong style=\"color:blue;\">json.loads():</strong> Deserialize JSON data from a string into a Python object.</li>\n",
    "</ul>\n"
   ]
  },
  {
   "cell_type": "markdown",
   "metadata": {},
   "source": [
    "<h1>8 Leetcode Question 706. Design HashMap</h1>\n",
    "\n",
    "<h3>Design a HashMap without using any built-in hash table libraries.</h3>\n",
    "\n",
    "<p>Implement the <strong>MyHashMap</strong> class:</p>\n",
    "<ul>\n",
    "  <li><strong>MyHashMap()</strong> initializes the object with an empty map.</li>\n",
    "  <li><strong>void put(int key, int value)</strong> inserts a (key, value) pair into the HashMap. If the key already exists in the map, update the corresponding value.</li>\n",
    "  <li><strong>int get(int key)</strong> returns the value to which the specified key is mapped, or -1 if this map contains no mapping for the key.</li>\n",
    "  <li><strong>void remove(key)</strong> removes the key and its corresponding value if the map contains the mapping for the key.</li>\n",
    "</ul>\n",
    "\n",
    "<h4>Example 1:</h4>\n",
    "<pre>\n",
    "Input\n",
    "[\"MyHashMap\", \"put\", \"put\", \"get\", \"get\", \"put\", \"get\", \"remove\", \"get\"]\n",
    "[[], [1, 1], [2, 2], [1], [3], [2, 1], [2], [2], [2]]\n",
    "Output\n",
    "[null, null, null, 1, -1, null, 1, null, -1]\n",
    "</pre>\n",
    "\n",
    "<p><strong>Explanation</strong></p>\n",
    "<p>MyHashMap myHashMap = new MyHashMap();<br>\n",
    "myHashMap.put(1, 1); // The map is now [[1,1]]<br>\n",
    "myHashMap.put(2, 2); // The map is now [[1,1], [2,2]]<br>\n",
    "myHashMap.get(1);    // return 1, The map is now [[1,1], [2,2]]<br>\n",
    "myHashMap.get(3);    // return -1 (i.e., not found), The map is now [[1,1], [2,2]]<br>\n",
    "myHashMap.put(2, 1); // The map is now [[1,1], [2,1]] (i.e., update the existing value)<br>\n",
    "myHashMap.get(2);    // return 1, The map is now [[1,1], [2,1]]<br>\n",
    "myHashMap.remove(2); // remove the mapping for 2, The map is now [[1,1]]<br>\n",
    "myHashMap.get(2);    // return -1 (i.e., not found), The map is now [[1,1]]</p>\n",
    "\n",
    "<h4>Constraints:</h4>\n",
    "<ul>\n",
    "  <li><strong>0 &lt;= key, value &lt;= 10<sup>6</sup></strong></li>\n",
    "  <li><strong>At most 10<sup>4</sup> calls will be made to put, get, and remove.</strong></li>\n",
    "</ul>\n",
    "\n"
   ]
  }
 ],
 "metadata": {
  "kernelspec": {
   "display_name": "Python 3",
   "language": "python",
   "name": "python3"
  },
  "language_info": {
   "codemirror_mode": {
    "name": "ipython",
    "version": 3
   },
   "file_extension": ".py",
   "mimetype": "text/x-python",
   "name": "python",
   "nbconvert_exporter": "python",
   "pygments_lexer": "ipython3",
   "version": "3.11.2"
  },
  "orig_nbformat": 4
 },
 "nbformat": 4,
 "nbformat_minor": 2
}
